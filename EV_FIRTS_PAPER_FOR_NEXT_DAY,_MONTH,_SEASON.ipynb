{
  "cells": [
    {
      "cell_type": "markdown",
      "metadata": {
        "id": "view-in-github",
        "colab_type": "text"
      },
      "source": [
        "<a href=\"https://colab.research.google.com/github/saharkoohfar/EV-charging-load-forecasting/blob/main/EV_FIRTS_PAPER_FOR_NEXT_DAY%2C_MONTH%2C_SEASON.ipynb\" target=\"_parent\"><img src=\"https://colab.research.google.com/assets/colab-badge.svg\" alt=\"Open In Colab\"/></a>"
      ]
    },
    {
      "cell_type": "code",
      "execution_count": null,
      "metadata": {
        "id": "Vqm4PeC5evtO"
      },
      "outputs": [],
      "source": [
        "from sklearn.model_selection import train_test_split\n",
        "import time\n",
        "import matplotlib.pyplot as plt\n",
        "import numpy as np\n",
        "import pandas as pd\n",
        "import os \n",
        "from pandas import DataFrame\n",
        "from pandas import concat\n",
        "\n",
        "from math import sqrt\n",
        "from numpy import concatenate\n",
        "import matplotlib.pyplot as plt\n",
        "from pandas import read_csv\n",
        "from pandas import DataFrame\n",
        "from sklearn.preprocessing import MinMaxScaler\n",
        "from sklearn.preprocessing import LabelEncoder\n",
        "from sklearn.metrics import mean_squared_error\n",
        "\n",
        "import IPython\n",
        "import IPython.display\n",
        "import matplotlib as mpl\n",
        "import math\n",
        "\n",
        "import argparse\n",
        "import keras.callbacks as kc\n",
        "from keras.layers import LSTM, GRU, Conv1D\n",
        "from keras.layers.convolutional import MaxPooling1D\n",
        "from keras.layers import Dropout\n",
        "from keras.models import Sequential\n",
        "from keras.layers import RepeatVector\n",
        "from keras.layers import TimeDistributed\n",
        "from keras.layers import Flatten\n",
        "from keras.layers import Bidirectional\n",
        "from keras.layers import Dense\n",
        "from keras.layers import LSTM\n",
        "from keras.layers import Dense, SimpleRNN\n",
        "import tensorflow as tf\n",
        "import seaborn as sns\n",
        "\n",
        "import torch\n",
        "from sklearn.model_selection import train_test_split\n",
        "import time\n",
        "\n",
        "from statsmodels.graphics.tsaplots import plot_pacf\n",
        "from statsmodels.graphics.tsaplots import plot_acf\n",
        "from statsmodels.tsa.holtwinters import ExponentialSmoothing\n",
        "from statsmodels.tsa.stattools import adfuller\n",
        "import matplotlib.pyplot as plt\n",
        "from tqdm import tqdm_notebook\n",
        "\n",
        "from itertools import product\n",
        "import warnings\n",
        "warnings.filterwarnings('ignore')\n",
        "%matplotlib inline\n",
        " \n",
        "from statsmodels.tsa.stattools import adfuller\n",
        "from statsmodels.tsa.stattools import adfuller\n",
        "from statsmodels.tsa.arima_model import ARIMA\n",
        "mpl.rcParams['figure.figsize'] = (15, 8)\n",
        "mpl.rcParams['axes.grid'] = False\n"
      ]
    },
    {
      "cell_type": "code",
      "execution_count": null,
      "metadata": {
        "id": "82QsWiwPQR6v"
      },
      "outputs": [],
      "source": [
        "torch.manual_seed(5645)\n",
        "import random\n",
        "random.seed(5645)\n",
        "np.random.seed(5645)\n"
      ]
    },
    {
      "cell_type": "code",
      "execution_count": null,
      "metadata": {
        "colab": {
          "base_uri": "https://localhost:8080/",
          "height": 300
        },
        "id": "F61hw9YetQ6Z",
        "outputId": "26cecebd-7f4e-4cbc-b0d3-e066b587f40b"
      },
      "outputs": [
        {
          "output_type": "execute_result",
          "data": {
            "text/plain": [
              "            Energy      weekday         max0         pcpn         snow\n",
              "count  1425.000000  1425.000000  1425.000000  1425.000000  1425.000000\n",
              "mean    179.839142     0.287018    66.785965     0.051425     0.248772\n",
              "std     101.737500     0.452529    18.786420     0.159153     1.224779\n",
              "min       0.749000     0.000000     4.000000     0.000000     0.000000\n",
              "25%      97.172000     0.000000    52.000000     0.000000     0.000000\n",
              "50%     166.575000     0.000000    67.000000     0.000000     0.000000\n",
              "75%     251.477000     1.000000    83.000000     0.010000     0.000000\n",
              "max     531.647000     1.000000   100.000000     1.580000    20.700000"
            ],
            "text/html": [
              "\n",
              "  <div id=\"df-2da155bf-1690-4398-960a-c4db1a9e2306\">\n",
              "    <div class=\"colab-df-container\">\n",
              "      <div>\n",
              "<style scoped>\n",
              "    .dataframe tbody tr th:only-of-type {\n",
              "        vertical-align: middle;\n",
              "    }\n",
              "\n",
              "    .dataframe tbody tr th {\n",
              "        vertical-align: top;\n",
              "    }\n",
              "\n",
              "    .dataframe thead th {\n",
              "        text-align: right;\n",
              "    }\n",
              "</style>\n",
              "<table border=\"1\" class=\"dataframe\">\n",
              "  <thead>\n",
              "    <tr style=\"text-align: right;\">\n",
              "      <th></th>\n",
              "      <th>Energy</th>\n",
              "      <th>weekday</th>\n",
              "      <th>max0</th>\n",
              "      <th>pcpn</th>\n",
              "      <th>snow</th>\n",
              "    </tr>\n",
              "  </thead>\n",
              "  <tbody>\n",
              "    <tr>\n",
              "      <th>count</th>\n",
              "      <td>1425.000000</td>\n",
              "      <td>1425.000000</td>\n",
              "      <td>1425.000000</td>\n",
              "      <td>1425.000000</td>\n",
              "      <td>1425.000000</td>\n",
              "    </tr>\n",
              "    <tr>\n",
              "      <th>mean</th>\n",
              "      <td>179.839142</td>\n",
              "      <td>0.287018</td>\n",
              "      <td>66.785965</td>\n",
              "      <td>0.051425</td>\n",
              "      <td>0.248772</td>\n",
              "    </tr>\n",
              "    <tr>\n",
              "      <th>std</th>\n",
              "      <td>101.737500</td>\n",
              "      <td>0.452529</td>\n",
              "      <td>18.786420</td>\n",
              "      <td>0.159153</td>\n",
              "      <td>1.224779</td>\n",
              "    </tr>\n",
              "    <tr>\n",
              "      <th>min</th>\n",
              "      <td>0.749000</td>\n",
              "      <td>0.000000</td>\n",
              "      <td>4.000000</td>\n",
              "      <td>0.000000</td>\n",
              "      <td>0.000000</td>\n",
              "    </tr>\n",
              "    <tr>\n",
              "      <th>25%</th>\n",
              "      <td>97.172000</td>\n",
              "      <td>0.000000</td>\n",
              "      <td>52.000000</td>\n",
              "      <td>0.000000</td>\n",
              "      <td>0.000000</td>\n",
              "    </tr>\n",
              "    <tr>\n",
              "      <th>50%</th>\n",
              "      <td>166.575000</td>\n",
              "      <td>0.000000</td>\n",
              "      <td>67.000000</td>\n",
              "      <td>0.000000</td>\n",
              "      <td>0.000000</td>\n",
              "    </tr>\n",
              "    <tr>\n",
              "      <th>75%</th>\n",
              "      <td>251.477000</td>\n",
              "      <td>1.000000</td>\n",
              "      <td>83.000000</td>\n",
              "      <td>0.010000</td>\n",
              "      <td>0.000000</td>\n",
              "    </tr>\n",
              "    <tr>\n",
              "      <th>max</th>\n",
              "      <td>531.647000</td>\n",
              "      <td>1.000000</td>\n",
              "      <td>100.000000</td>\n",
              "      <td>1.580000</td>\n",
              "      <td>20.700000</td>\n",
              "    </tr>\n",
              "  </tbody>\n",
              "</table>\n",
              "</div>\n",
              "      <button class=\"colab-df-convert\" onclick=\"convertToInteractive('df-2da155bf-1690-4398-960a-c4db1a9e2306')\"\n",
              "              title=\"Convert this dataframe to an interactive table.\"\n",
              "              style=\"display:none;\">\n",
              "        \n",
              "  <svg xmlns=\"http://www.w3.org/2000/svg\" height=\"24px\"viewBox=\"0 0 24 24\"\n",
              "       width=\"24px\">\n",
              "    <path d=\"M0 0h24v24H0V0z\" fill=\"none\"/>\n",
              "    <path d=\"M18.56 5.44l.94 2.06.94-2.06 2.06-.94-2.06-.94-.94-2.06-.94 2.06-2.06.94zm-11 1L8.5 8.5l.94-2.06 2.06-.94-2.06-.94L8.5 2.5l-.94 2.06-2.06.94zm10 10l.94 2.06.94-2.06 2.06-.94-2.06-.94-.94-2.06-.94 2.06-2.06.94z\"/><path d=\"M17.41 7.96l-1.37-1.37c-.4-.4-.92-.59-1.43-.59-.52 0-1.04.2-1.43.59L10.3 9.45l-7.72 7.72c-.78.78-.78 2.05 0 2.83L4 21.41c.39.39.9.59 1.41.59.51 0 1.02-.2 1.41-.59l7.78-7.78 2.81-2.81c.8-.78.8-2.07 0-2.86zM5.41 20L4 18.59l7.72-7.72 1.47 1.35L5.41 20z\"/>\n",
              "  </svg>\n",
              "      </button>\n",
              "      \n",
              "  <style>\n",
              "    .colab-df-container {\n",
              "      display:flex;\n",
              "      flex-wrap:wrap;\n",
              "      gap: 12px;\n",
              "    }\n",
              "\n",
              "    .colab-df-convert {\n",
              "      background-color: #E8F0FE;\n",
              "      border: none;\n",
              "      border-radius: 50%;\n",
              "      cursor: pointer;\n",
              "      display: none;\n",
              "      fill: #1967D2;\n",
              "      height: 32px;\n",
              "      padding: 0 0 0 0;\n",
              "      width: 32px;\n",
              "    }\n",
              "\n",
              "    .colab-df-convert:hover {\n",
              "      background-color: #E2EBFA;\n",
              "      box-shadow: 0px 1px 2px rgba(60, 64, 67, 0.3), 0px 1px 3px 1px rgba(60, 64, 67, 0.15);\n",
              "      fill: #174EA6;\n",
              "    }\n",
              "\n",
              "    [theme=dark] .colab-df-convert {\n",
              "      background-color: #3B4455;\n",
              "      fill: #D2E3FC;\n",
              "    }\n",
              "\n",
              "    [theme=dark] .colab-df-convert:hover {\n",
              "      background-color: #434B5C;\n",
              "      box-shadow: 0px 1px 3px 1px rgba(0, 0, 0, 0.15);\n",
              "      filter: drop-shadow(0px 1px 2px rgba(0, 0, 0, 0.3));\n",
              "      fill: #FFFFFF;\n",
              "    }\n",
              "  </style>\n",
              "\n",
              "      <script>\n",
              "        const buttonEl =\n",
              "          document.querySelector('#df-2da155bf-1690-4398-960a-c4db1a9e2306 button.colab-df-convert');\n",
              "        buttonEl.style.display =\n",
              "          google.colab.kernel.accessAllowed ? 'block' : 'none';\n",
              "\n",
              "        async function convertToInteractive(key) {\n",
              "          const element = document.querySelector('#df-2da155bf-1690-4398-960a-c4db1a9e2306');\n",
              "          const dataTable =\n",
              "            await google.colab.kernel.invokeFunction('convertToInteractive',\n",
              "                                                     [key], {});\n",
              "          if (!dataTable) return;\n",
              "\n",
              "          const docLinkHtml = 'Like what you see? Visit the ' +\n",
              "            '<a target=\"_blank\" href=https://colab.research.google.com/notebooks/data_table.ipynb>data table notebook</a>'\n",
              "            + ' to learn more about interactive tables.';\n",
              "          element.innerHTML = '';\n",
              "          dataTable['output_type'] = 'display_data';\n",
              "          await google.colab.output.renderOutput(dataTable, element);\n",
              "          const docLink = document.createElement('div');\n",
              "          docLink.innerHTML = docLinkHtml;\n",
              "          element.appendChild(docLink);\n",
              "        }\n",
              "      </script>\n",
              "    </div>\n",
              "  </div>\n",
              "  "
            ]
          },
          "metadata": {},
          "execution_count": 140
        }
      ],
      "source": [
        "data = pd.read_csv('EV-WEEKDAY.csv')\n",
        "data.set_index('0ime', inplace=True)\n",
        "data.index = pd.to_datetime(data.index)\n",
        "\n",
        "# data.index = pd.to_datetime(data['Time'])\n",
        "data['TIME'] = data.index\n",
        "data = data.groupby([pd.Grouper(key='TIME', freq='D')]).sum()\n",
        "data = data.dropna()\n",
        "data.drop(data[data['Energy'] <= 0].index, inplace=True)\n",
        "data.describe()\n",
        "#data.drop(['weekday'], axis = 1)"
      ]
    },
    {
      "cell_type": "code",
      "execution_count": null,
      "metadata": {
        "colab": {
          "base_uri": "https://localhost:8080/",
          "height": 1000
        },
        "id": "R9CSxmMdQoyi",
        "outputId": "bc2853aa-f9cf-4fbc-cc7b-564c01dfc078"
      },
      "outputs": [
        {
          "output_type": "stream",
          "name": "stderr",
          "text": [
            "\r  0%|          | 0/100 [00:00<?, ?it/s]"
          ]
        },
        {
          "output_type": "stream",
          "name": "stdout",
          "text": [
            "0.5325850786576354\n",
            "1.1259594463368292\n"
          ]
        },
        {
          "output_type": "stream",
          "name": "stderr",
          "text": [
            "\r  1%|          | 1/100 [00:09<15:14,  9.23s/it]"
          ]
        },
        {
          "output_type": "stream",
          "name": "stdout",
          "text": [
            "1.6969865564001723\n",
            "2.341338990435001\n",
            "0.40562773046568595\n",
            "0.8442333810639956\n"
          ]
        },
        {
          "output_type": "stream",
          "name": "stderr",
          "text": [
            "\r  2%|▏         | 2/100 [00:17<13:46,  8.43s/it]"
          ]
        },
        {
          "output_type": "stream",
          "name": "stdout",
          "text": [
            "1.2808933204719515\n",
            "1.7499875457637875\n",
            "0.3778328543650996\n",
            "0.7894396576322603\n"
          ]
        },
        {
          "output_type": "stream",
          "name": "stderr",
          "text": [
            "\r  3%|▎         | 3/100 [00:22<11:07,  6.88s/it]"
          ]
        },
        {
          "output_type": "stream",
          "name": "stdout",
          "text": [
            "1.2066942905323517\n",
            "1.6266210859769308\n",
            "0.35089358657599273\n",
            "0.735712132129069\n"
          ]
        },
        {
          "output_type": "stream",
          "name": "stderr",
          "text": [
            "\r  4%|▍         | 4/100 [00:27<09:51,  6.16s/it]"
          ]
        },
        {
          "output_type": "stream",
          "name": "stdout",
          "text": [
            "1.1248440981799797\n",
            "1.5147281250213211\n",
            "0.32284025215774503\n",
            "0.6798121388918457\n"
          ]
        },
        {
          "output_type": "stream",
          "name": "stderr",
          "text": [
            "\r  5%|▌         | 5/100 [00:32<09:06,  5.76s/it]"
          ]
        },
        {
          "output_type": "stream",
          "name": "stdout",
          "text": [
            "1.037660654583575\n",
            "1.4057657658262432\n",
            "0.3059274448988211\n",
            "0.645360639252605\n"
          ]
        },
        {
          "output_type": "stream",
          "name": "stderr",
          "text": [
            "\r  6%|▌         | 6/100 [00:37<08:37,  5.51s/it]"
          ]
        },
        {
          "output_type": "stream",
          "name": "stdout",
          "text": [
            "0.9826719200328933\n",
            "1.3409953267887702\n",
            "0.2962715704785352\n",
            "0.6257062463552303\n"
          ]
        },
        {
          "output_type": "stream",
          "name": "stderr",
          "text": [
            "\r  7%|▋         | 7/100 [00:42<08:17,  5.35s/it]"
          ]
        },
        {
          "output_type": "stream",
          "name": "stdout",
          "text": [
            "0.9509823514352889\n",
            "1.3048110921255787\n",
            "0.2889131708501798\n",
            "0.6101294531792443\n"
          ]
        },
        {
          "output_type": "stream",
          "name": "stderr",
          "text": [
            "\r  8%|▊         | 8/100 [00:49<08:52,  5.79s/it]"
          ]
        },
        {
          "output_type": "stream",
          "name": "stdout",
          "text": [
            "0.9261043910180159\n",
            "1.274456609120039\n",
            "0.28107817723705003\n",
            "0.5930777092783471\n"
          ]
        },
        {
          "output_type": "stream",
          "name": "stderr",
          "text": [
            "\r  9%|▉         | 9/100 [00:53<08:23,  5.53s/it]"
          ]
        },
        {
          "output_type": "stream",
          "name": "stdout",
          "text": [
            "0.8993385589659464\n",
            "1.2392093279851684\n",
            "0.2727776807596794\n",
            "0.5749021352904173\n"
          ]
        },
        {
          "output_type": "stream",
          "name": "stderr",
          "text": [
            "\r 10%|█         | 10/100 [00:59<08:03,  5.37s/it]"
          ]
        },
        {
          "output_type": "stream",
          "name": "stdout",
          "text": [
            "0.8711638410172742\n",
            "1.2002590618193216\n",
            "0.26513236865945766\n",
            "0.5584601335362451\n"
          ]
        },
        {
          "output_type": "stream",
          "name": "stderr",
          "text": [
            "\r 11%|█         | 11/100 [01:04<07:48,  5.27s/it]"
          ]
        },
        {
          "output_type": "stream",
          "name": "stdout",
          "text": [
            "0.8457886539771275\n",
            "1.164175282143258\n",
            "0.2583180477722747\n",
            "0.5443624409379111\n"
          ]
        },
        {
          "output_type": "stream",
          "name": "stderr",
          "text": [
            "\r 12%|█▏        | 12/100 [01:09<07:36,  5.19s/it]"
          ]
        },
        {
          "output_type": "stream",
          "name": "stdout",
          "text": [
            "0.824110408672188\n",
            "1.1329708764307689\n",
            "0.2512889664143862\n",
            "0.5302967715106662\n"
          ]
        },
        {
          "output_type": "stream",
          "name": "stderr",
          "text": [
            "\r 13%|█▎        | 13/100 [01:14<07:26,  5.14s/it]"
          ]
        },
        {
          "output_type": "stream",
          "name": "stdout",
          "text": [
            "0.8026143066635605\n",
            "1.102456324496318\n",
            "0.2430795573999696\n",
            "0.514253383839645\n"
          ]
        },
        {
          "output_type": "stream",
          "name": "stderr",
          "text": [
            "\r 14%|█▍        | 14/100 [01:19<07:18,  5.10s/it]"
          ]
        },
        {
          "output_type": "stream",
          "name": "stdout",
          "text": [
            "0.7781944382157877\n",
            "1.068666486470436\n",
            "0.23419404505206415\n",
            "0.49709338186959284\n"
          ]
        },
        {
          "output_type": "stream",
          "name": "stderr",
          "text": [
            "\r 15%|█▌        | 15/100 [01:24<07:11,  5.07s/it]"
          ]
        },
        {
          "output_type": "stream",
          "name": "stdout",
          "text": [
            "0.7520297792268296\n",
            "1.0333141802948616\n",
            "0.2258328382024965\n",
            "0.4809500534688968\n"
          ]
        },
        {
          "output_type": "stream",
          "name": "stderr",
          "text": [
            "\r 16%|█▌        | 16/100 [01:29<07:06,  5.07s/it]"
          ]
        },
        {
          "output_type": "stream",
          "name": "stdout",
          "text": [
            "0.7272634138774425\n",
            "1.000449951699324\n",
            "0.21834306419541766\n",
            "0.46631003863924136\n"
          ]
        },
        {
          "output_type": "stream",
          "name": "stderr",
          "text": [
            "\r 17%|█▋        | 17/100 [01:34<07:00,  5.06s/it]"
          ]
        },
        {
          "output_type": "stream",
          "name": "stdout",
          "text": [
            "0.7046197389313409\n",
            "0.9706271812024574\n",
            "0.21115665483647644\n",
            "0.45168662669546733\n"
          ]
        },
        {
          "output_type": "stream",
          "name": "stderr",
          "text": [
            "\r 18%|█▊        | 18/100 [01:39<06:54,  5.06s/it]"
          ]
        },
        {
          "output_type": "stream",
          "name": "stdout",
          "text": [
            "0.6819086386297804\n",
            "0.9404064765537967\n",
            "0.20391116275884896\n",
            "0.436040082699775\n"
          ]
        },
        {
          "output_type": "stream",
          "name": "stderr",
          "text": [
            "\r 19%|█▉        | 19/100 [01:44<06:49,  5.06s/it]"
          ]
        },
        {
          "output_type": "stream",
          "name": "stdout",
          "text": [
            "0.6576025706863647\n",
            "0.9075071434406312\n",
            "0.19692053281355648\n",
            "0.4200691449142514\n"
          ]
        },
        {
          "output_type": "stream",
          "name": "stderr",
          "text": [
            "\r 20%|██        | 20/100 [01:50<07:21,  5.52s/it]"
          ]
        },
        {
          "output_type": "stream",
          "name": "stdout",
          "text": [
            "0.6328013703506218\n",
            "0.8734795008202889\n",
            "0.1905560269885853\n",
            "0.4048624203109684\n"
          ]
        },
        {
          "output_type": "stream",
          "name": "stderr",
          "text": [
            "\r 21%|██        | 21/100 [01:55<07:05,  5.38s/it]"
          ]
        },
        {
          "output_type": "stream",
          "name": "stdout",
          "text": [
            "0.6092391643838445\n",
            "0.8409264853212084\n",
            "0.18420089046958388\n",
            "0.3899880102761091\n"
          ]
        },
        {
          "output_type": "stream",
          "name": "stderr",
          "text": [
            "\r 22%|██▏       | 22/100 [02:01<06:52,  5.29s/it]"
          ]
        },
        {
          "output_type": "stream",
          "name": "stdout",
          "text": [
            "0.5863011750821997\n",
            "0.8092955092075897\n",
            "0.17732050672349492\n",
            "0.3742710594130779\n"
          ]
        },
        {
          "output_type": "stream",
          "name": "stderr",
          "text": [
            "\r 23%|██▎       | 23/100 [02:06<06:42,  5.22s/it]"
          ]
        },
        {
          "output_type": "stream",
          "name": "stdout",
          "text": [
            "0.5623161308376263\n",
            "0.7764515684837785\n",
            "0.1695493620031003\n",
            "0.3573822417629493\n"
          ]
        },
        {
          "output_type": "stream",
          "name": "stderr",
          "text": [
            "\r 24%|██▍       | 24/100 [02:11<06:33,  5.18s/it]"
          ]
        },
        {
          "output_type": "stream",
          "name": "stdout",
          "text": [
            "0.5367647901911228\n",
            "0.7416845054361287\n",
            "0.16166127129319802\n",
            "0.34092009917924504\n"
          ]
        },
        {
          "output_type": "stream",
          "name": "stderr",
          "text": [
            "\r 25%|██▌       | 25/100 [02:16<06:25,  5.15s/it]"
          ]
        },
        {
          "output_type": "stream",
          "name": "stdout",
          "text": [
            "0.511949777253675\n",
            "0.7080012612675075\n",
            "0.15468228998404562\n",
            "0.3260757098353332\n"
          ]
        },
        {
          "output_type": "stream",
          "name": "stderr",
          "text": [
            "\r 26%|██▌       | 26/100 [02:21<06:18,  5.12s/it]"
          ]
        },
        {
          "output_type": "stream",
          "name": "stdout",
          "text": [
            "0.4896351655142902\n",
            "0.6777273550426107\n",
            "0.14851010037695905\n",
            "0.31264064404676206\n"
          ]
        },
        {
          "output_type": "stream",
          "name": "stderr",
          "text": [
            "\r 27%|██▋       | 27/100 [02:26<06:12,  5.10s/it]"
          ]
        },
        {
          "output_type": "stream",
          "name": "stdout",
          "text": [
            "0.469363715779902\n",
            "0.6499958653621867\n",
            "0.1434923907623114\n",
            "0.3008176946242983\n"
          ]
        },
        {
          "output_type": "stream",
          "name": "stderr",
          "text": [
            "\r 28%|██▊       | 28/100 [02:31<06:06,  5.09s/it]"
          ]
        },
        {
          "output_type": "stream",
          "name": "stdout",
          "text": [
            "0.4515806832866413\n",
            "0.625568332848937\n",
            "0.13964833595787227\n",
            "0.2912912857518839\n"
          ]
        },
        {
          "output_type": "stream",
          "name": "stderr",
          "text": [
            "\r 29%|██▉       | 29/100 [02:36<06:01,  5.09s/it]"
          ]
        },
        {
          "output_type": "stream",
          "name": "stdout",
          "text": [
            "0.43722004072396936\n",
            "0.6059738542473166\n",
            "0.1361886523883523\n",
            "0.2832394979926615\n"
          ]
        },
        {
          "output_type": "stream",
          "name": "stderr",
          "text": [
            "\r 30%|███       | 30/100 [02:41<05:54,  5.06s/it]"
          ]
        },
        {
          "output_type": "stream",
          "name": "stdout",
          "text": [
            "0.4250393795722968\n",
            "0.5896118335946637\n",
            "0.1325917603717421\n",
            "0.2752787073173487\n"
          ]
        },
        {
          "output_type": "stream",
          "name": "stderr",
          "text": [
            "\r 31%|███       | 31/100 [02:46<05:47,  5.04s/it]"
          ]
        },
        {
          "output_type": "stream",
          "name": "stdout",
          "text": [
            "0.4130444885497313\n",
            "0.5737858113405612\n",
            "0.128880603784789\n",
            "0.2678571683859924\n"
          ]
        },
        {
          "output_type": "stream",
          "name": "stderr",
          "text": [
            "\r 32%|███▏      | 32/100 [02:51<05:42,  5.04s/it]"
          ]
        },
        {
          "output_type": "stream",
          "name": "stdout",
          "text": [
            "0.40177695292167576\n",
            "0.5583669657865509\n",
            "0.12550533176311413\n",
            "0.2604772795880145\n"
          ]
        },
        {
          "output_type": "stream",
          "name": "stderr",
          "text": [
            "\r 33%|███▎      | 33/100 [02:56<05:38,  5.05s/it]"
          ]
        },
        {
          "output_type": "stream",
          "name": "stdout",
          "text": [
            "0.39058074792235997\n",
            "0.5436069976011361\n",
            "0.12204027048381647\n",
            "0.25280173539673245\n"
          ]
        },
        {
          "output_type": "stream",
          "name": "stderr",
          "text": [
            "\r 34%|███▍      | 34/100 [03:01<05:33,  5.05s/it]"
          ]
        },
        {
          "output_type": "stream",
          "name": "stdout",
          "text": [
            "0.3788930303808641\n",
            "0.527296955275268\n",
            "0.1184342002630904\n",
            "0.24446523713700655\n"
          ]
        },
        {
          "output_type": "stream",
          "name": "stderr",
          "text": [
            "\r 35%|███▌      | 35/100 [03:06<05:28,  5.06s/it]"
          ]
        },
        {
          "output_type": "stream",
          "name": "stdout",
          "text": [
            "0.3662899404716432\n",
            "0.5101570712629383\n",
            "0.11396196417538738\n",
            "0.23510476776148437\n"
          ]
        },
        {
          "output_type": "stream",
          "name": "stderr",
          "text": [
            "\r 36%|███▌      | 36/100 [03:11<05:23,  5.05s/it]"
          ]
        },
        {
          "output_type": "stream",
          "name": "stdout",
          "text": [
            "0.3520928182579095\n",
            "0.48991403222867996\n",
            "0.10890292399857812\n",
            "0.2247566393458914\n"
          ]
        },
        {
          "output_type": "stream",
          "name": "stderr",
          "text": [
            "\r 37%|███▋      | 37/100 [03:16<05:18,  5.06s/it]"
          ]
        },
        {
          "output_type": "stream",
          "name": "stdout",
          "text": [
            "0.33653186836935994\n",
            "0.46780716973477043\n",
            "0.10382097005007898\n",
            "0.21463361331823394\n"
          ]
        },
        {
          "output_type": "stream",
          "name": "stderr",
          "text": [
            "\r 38%|███▊      | 38/100 [03:21<05:13,  5.05s/it]"
          ]
        },
        {
          "output_type": "stream",
          "name": "stdout",
          "text": [
            "0.3213434962717463\n",
            "0.44592121370816706\n",
            "0.09911885246091366\n",
            "0.20512320973049836\n"
          ]
        },
        {
          "output_type": "stream",
          "name": "stderr",
          "text": [
            "\r 39%|███▉      | 39/100 [03:28<05:32,  5.44s/it]"
          ]
        },
        {
          "output_type": "stream",
          "name": "stdout",
          "text": [
            "0.30704698835448163\n",
            "0.42586104674800074\n",
            "0.09472897372443503\n",
            "0.19636370642871376\n"
          ]
        },
        {
          "output_type": "stream",
          "name": "stderr",
          "text": [
            "\r 40%|████      | 40/100 [03:34<05:48,  5.80s/it]"
          ]
        },
        {
          "output_type": "stream",
          "name": "stdout",
          "text": [
            "0.2939130302998807\n",
            "0.40746109337622305\n",
            "0.09076512054198232\n",
            "0.18831281823017804\n"
          ]
        },
        {
          "output_type": "stream",
          "name": "stderr",
          "text": [
            "\r 41%|████      | 41/100 [03:41<05:49,  5.92s/it]"
          ]
        },
        {
          "output_type": "stream",
          "name": "stdout",
          "text": [
            "0.28179641171821335\n",
            "0.39058115180940645\n",
            "0.08664356089332659\n",
            "0.18012579482927166\n"
          ]
        },
        {
          "output_type": "stream",
          "name": "stderr",
          "text": [
            "\r 42%|████▏     | 42/100 [03:46<05:28,  5.66s/it]"
          ]
        },
        {
          "output_type": "stream",
          "name": "stdout",
          "text": [
            "0.26955112596490405\n",
            "0.37332853003949823\n",
            "0.0826346786284377\n",
            "0.1720412527190408\n"
          ]
        },
        {
          "output_type": "stream",
          "name": "stderr",
          "text": [
            "\r 43%|████▎     | 43/100 [03:51<05:12,  5.49s/it]"
          ]
        },
        {
          "output_type": "stream",
          "name": "stdout",
          "text": [
            "0.2574126036201674\n",
            "0.35675692494929356\n",
            "0.07857553602811214\n",
            "0.1640970056323418\n"
          ]
        },
        {
          "output_type": "stream",
          "name": "stderr",
          "text": [
            "\r 44%|████▍     | 44/100 [03:56<05:00,  5.36s/it]"
          ]
        },
        {
          "output_type": "stream",
          "name": "stdout",
          "text": [
            "0.2455924175934207\n",
            "0.34041747214158696\n",
            "0.07481747304892357\n",
            "0.15663651199657364\n"
          ]
        },
        {
          "output_type": "stream",
          "name": "stderr",
          "text": [
            "\r 45%|████▌     | 45/100 [04:01<04:49,  5.26s/it]"
          ]
        },
        {
          "output_type": "stream",
          "name": "stdout",
          "text": [
            "0.23441249508328402\n",
            "0.32527887204740363\n",
            "0.07098458037284831\n",
            "0.14926286698375643\n"
          ]
        },
        {
          "output_type": "stream",
          "name": "stderr",
          "text": [
            "\r 46%|████▌     | 46/100 [04:06<04:40,  5.20s/it]"
          ]
        },
        {
          "output_type": "stream",
          "name": "stdout",
          "text": [
            "0.22346433023776952\n",
            "0.309672812089579\n",
            "0.06742640920780231\n",
            "0.14210371565277635\n"
          ]
        },
        {
          "output_type": "stream",
          "name": "stderr",
          "text": [
            "\r 47%|████▋     | 47/100 [04:11<04:33,  5.15s/it]"
          ]
        },
        {
          "output_type": "stream",
          "name": "stdout",
          "text": [
            "0.21271027032830014\n",
            "0.29500407641076426\n",
            "0.06358588299611845\n",
            "0.13468846129145925\n"
          ]
        },
        {
          "output_type": "stream",
          "name": "stderr",
          "text": [
            "\r 48%|████▊     | 48/100 [04:16<04:25,  5.11s/it]"
          ]
        },
        {
          "output_type": "stream",
          "name": "stdout",
          "text": [
            "0.2016529418924064\n",
            "0.2793476030055868\n",
            "0.05999063185586778\n",
            "0.12760698874179788\n"
          ]
        },
        {
          "output_type": "stream",
          "name": "stderr",
          "text": [
            "\r 49%|████▉     | 49/100 [04:21<04:19,  5.09s/it]"
          ]
        },
        {
          "output_type": "stream",
          "name": "stdout",
          "text": [
            "0.19101055418711965\n",
            "0.2648915513522467\n",
            "0.05659313393146041\n",
            "0.12109251024246981\n"
          ]
        },
        {
          "output_type": "stream",
          "name": "stderr",
          "text": [
            "\r 50%|█████     | 50/100 [04:26<04:13,  5.07s/it]"
          ]
        },
        {
          "output_type": "stream",
          "name": "stdout",
          "text": [
            "0.18127139451078858\n",
            "0.25111438553625653\n",
            "0.05355816081684242\n",
            "0.11512610979412266\n"
          ]
        },
        {
          "output_type": "stream",
          "name": "stderr",
          "text": [
            "\r 51%|█████     | 51/100 [04:31<04:08,  5.06s/it]"
          ]
        },
        {
          "output_type": "stream",
          "name": "stdout",
          "text": [
            "0.17229675321355692\n",
            "0.23860716721910866\n",
            "0.05082540629512212\n",
            "0.10967039122873709\n"
          ]
        },
        {
          "output_type": "stream",
          "name": "stderr",
          "text": [
            "\r 52%|█████▏    | 52/100 [04:36<04:02,  5.06s/it]"
          ]
        },
        {
          "output_type": "stream",
          "name": "stdout",
          "text": [
            "0.1640854784168854\n",
            "0.2267158494177125\n",
            "0.04830873480502139\n",
            "0.10432659631926212\n"
          ]
        },
        {
          "output_type": "stream",
          "name": "stderr",
          "text": [
            "\r 53%|█████▎    | 53/100 [04:41<03:57,  5.06s/it]"
          ]
        },
        {
          "output_type": "stream",
          "name": "stdout",
          "text": [
            "0.156000898424362\n",
            "0.21558897817832223\n",
            "0.04593516349242499\n",
            "0.09919251035638474\n"
          ]
        },
        {
          "output_type": "stream",
          "name": "stderr",
          "text": [
            "\r 54%|█████▍    | 54/100 [04:46<03:52,  5.05s/it]"
          ]
        },
        {
          "output_type": "stream",
          "name": "stdout",
          "text": [
            "0.14825060671849147\n",
            "0.20475337223993104\n",
            "0.04375623454744148\n",
            "0.09425651712808938\n"
          ]
        },
        {
          "output_type": "stream",
          "name": "stderr",
          "text": [
            "\r 55%|█████▌    | 55/100 [04:51<03:46,  5.04s/it]"
          ]
        },
        {
          "output_type": "stream",
          "name": "stdout",
          "text": [
            "0.14078081761174\n",
            "0.19455508041616837\n",
            "0.04177881835095948\n",
            "0.08958270454782463\n"
          ]
        },
        {
          "output_type": "stream",
          "name": "stderr",
          "text": [
            "\r 56%|█████▌    | 56/100 [04:56<03:41,  5.04s/it]"
          ]
        },
        {
          "output_type": "stream",
          "name": "stdout",
          "text": [
            "0.13367145615483494\n",
            "0.1849425821863449\n",
            "0.04013401913758335\n",
            "0.08581509801178726\n"
          ]
        },
        {
          "output_type": "stream",
          "name": "stderr",
          "text": [
            "\r 57%|█████▋    | 57/100 [05:01<03:36,  5.04s/it]"
          ]
        },
        {
          "output_type": "stream",
          "name": "stdout",
          "text": [
            "0.12782033018887984\n",
            "0.17615333263763852\n",
            "0.038215168731346054\n",
            "0.0813244577983234\n"
          ]
        },
        {
          "output_type": "stream",
          "name": "stderr",
          "text": [
            "\r 58%|█████▊    | 58/100 [05:06<03:31,  5.04s/it]"
          ]
        },
        {
          "output_type": "stream",
          "name": "stdout",
          "text": [
            "0.1209539110687806\n",
            "0.16710339108113248\n",
            "0.03641929068035087\n",
            "0.07764290712021799\n"
          ]
        },
        {
          "output_type": "stream",
          "name": "stderr",
          "text": [
            "\r 59%|█████▉    | 59/100 [05:11<03:26,  5.04s/it]"
          ]
        },
        {
          "output_type": "stream",
          "name": "stdout",
          "text": [
            "0.11524832876380017\n",
            "0.15874633441704647\n",
            "0.03454600958765066\n",
            "0.073794836717857\n"
          ]
        },
        {
          "output_type": "stream",
          "name": "stderr",
          "text": [
            "\r 60%|██████    | 60/100 [05:16<03:21,  5.04s/it]"
          ]
        },
        {
          "output_type": "stream",
          "name": "stdout",
          "text": [
            "0.10936664196724356\n",
            "0.15052658394653023\n",
            "0.03274673146815845\n",
            "0.07001133262845663\n"
          ]
        },
        {
          "output_type": "stream",
          "name": "stderr",
          "text": [
            "\r 61%|██████    | 61/100 [05:21<03:16,  5.04s/it]"
          ]
        },
        {
          "output_type": "stream",
          "name": "stdout",
          "text": [
            "0.10358521631697593\n",
            "0.14261041171793964\n",
            "0.03137294151388402\n",
            "0.06743568499477487\n"
          ]
        },
        {
          "output_type": "stream",
          "name": "stderr",
          "text": [
            "\r 62%|██████▏   | 62/100 [05:27<03:12,  5.06s/it]"
          ]
        },
        {
          "output_type": "stream",
          "name": "stdout",
          "text": [
            "0.09939155867324209\n",
            "0.1360363429769215\n",
            "0.0297626438120918\n",
            "0.06400668890955258\n"
          ]
        },
        {
          "output_type": "stream",
          "name": "stderr",
          "text": [
            "\r 63%|██████▎   | 63/100 [05:32<03:07,  5.06s/it]"
          ]
        },
        {
          "output_type": "stream",
          "name": "stdout",
          "text": [
            "0.09416724294813178\n",
            "0.12879493447455193\n",
            "0.028232586757071132\n",
            "0.060663694411005935\n"
          ]
        },
        {
          "output_type": "stream",
          "name": "stderr",
          "text": [
            "\r 64%|██████▍   | 64/100 [05:37<03:01,  5.04s/it]"
          ]
        },
        {
          "output_type": "stream",
          "name": "stdout",
          "text": [
            "0.08923499905057135\n",
            "0.1220303228682389\n",
            "0.026974064576611972\n",
            "0.058195107270720275\n"
          ]
        },
        {
          "output_type": "stream",
          "name": "stderr",
          "text": [
            "\r 65%|██████▌   | 65/100 [05:42<02:56,  5.04s/it]"
          ]
        },
        {
          "output_type": "stream",
          "name": "stdout",
          "text": [
            "0.08545679480831328\n",
            "0.11636749965527193\n",
            "0.02554745280198215\n",
            "0.054812174323004934\n"
          ]
        },
        {
          "output_type": "stream",
          "name": "stderr",
          "text": [
            "\r 66%|██████▌   | 66/100 [05:47<02:51,  5.04s/it]"
          ]
        },
        {
          "output_type": "stream",
          "name": "stdout",
          "text": [
            "0.0805658315342564\n",
            "0.10983894924878386\n",
            "0.024322891793356366\n",
            "0.052072958103538666\n"
          ]
        },
        {
          "output_type": "stream",
          "name": "stderr",
          "text": [
            "\r 67%|██████▋   | 67/100 [05:52<02:46,  5.04s/it]"
          ]
        },
        {
          "output_type": "stream",
          "name": "stdout",
          "text": [
            "0.07655941563880549\n",
            "0.1042537373483281\n",
            "0.0232636472444012\n",
            "0.04993386869677747\n"
          ]
        },
        {
          "output_type": "stream",
          "name": "stderr",
          "text": [
            "\r 68%|██████▊   | 68/100 [05:57<02:40,  5.03s/it]"
          ]
        },
        {
          "output_type": "stream",
          "name": "stdout",
          "text": [
            "0.07333176762002772\n",
            "0.09957351697493733\n",
            "0.02204290332593965\n",
            "0.046905364584308315\n"
          ]
        },
        {
          "output_type": "stream",
          "name": "stderr",
          "text": [
            "\r 69%|██████▉   | 69/100 [06:02<02:35,  5.03s/it]"
          ]
        },
        {
          "output_type": "stream",
          "name": "stdout",
          "text": [
            "0.0690695960764816\n",
            "0.0938316404837189\n",
            "0.02095324760213706\n",
            "0.04456572309401605\n"
          ]
        },
        {
          "output_type": "stream",
          "name": "stderr",
          "text": [
            "\r 70%|███████   | 70/100 [06:07<02:30,  5.03s/it]"
          ]
        },
        {
          "output_type": "stream",
          "name": "stdout",
          "text": [
            "0.0656417814090464\n",
            "0.08900237893446822\n",
            "0.019996405389317577\n",
            "0.04254139737149354\n"
          ]
        },
        {
          "output_type": "stream",
          "name": "stderr",
          "text": [
            "\r 71%|███████   | 71/100 [06:13<02:36,  5.38s/it]"
          ]
        },
        {
          "output_type": "stream",
          "name": "stdout",
          "text": [
            "0.06265953202049587\n",
            "0.08484997372873847\n",
            "0.01903293311087152\n",
            "0.04008210376053227\n"
          ]
        },
        {
          "output_type": "stream",
          "name": "stderr",
          "text": [
            "\r 72%|███████▏  | 72/100 [06:18<02:31,  5.41s/it]"
          ]
        },
        {
          "output_type": "stream",
          "name": "stdout",
          "text": [
            "0.0592395910997326\n",
            "0.08017064226050676\n",
            "0.018166287325372378\n",
            "0.038259174741590254\n"
          ]
        },
        {
          "output_type": "stream",
          "name": "stderr",
          "text": [
            "\r 73%|███████▎  | 73/100 [06:23<02:22,  5.29s/it]"
          ]
        },
        {
          "output_type": "stream",
          "name": "stdout",
          "text": [
            "0.056559705390506074\n",
            "0.0764492500562675\n",
            "0.017437117087172608\n",
            "0.0367321253311359\n"
          ]
        },
        {
          "output_type": "stream",
          "name": "stderr",
          "text": [
            "\r 74%|███████▍  | 74/100 [06:29<02:15,  5.22s/it]"
          ]
        },
        {
          "output_type": "stream",
          "name": "stdout",
          "text": [
            "0.0543234973532329\n",
            "0.07329104601437127\n",
            "0.016773166668689388\n",
            "0.035159865623354235\n"
          ]
        },
        {
          "output_type": "stream",
          "name": "stderr",
          "text": [
            "\r 75%|███████▌  | 75/100 [06:34<02:09,  5.16s/it]"
          ]
        },
        {
          "output_type": "stream",
          "name": "stdout",
          "text": [
            "0.052091971942726516\n",
            "0.07005430388534557\n",
            "0.016255420568313004\n",
            "0.033864945134982935\n"
          ]
        },
        {
          "output_type": "stream",
          "name": "stderr",
          "text": [
            "\r 76%|███████▌  | 76/100 [06:39<02:02,  5.12s/it]"
          ]
        },
        {
          "output_type": "stream",
          "name": "stdout",
          "text": [
            "0.050271845662921415\n",
            "0.06736454027365953\n",
            "0.015596796215856459\n",
            "0.032645695137966564\n"
          ]
        },
        {
          "output_type": "stream",
          "name": "stderr",
          "text": [
            "\r 77%|███████▋  | 77/100 [06:44<01:57,  5.09s/it]"
          ]
        },
        {
          "output_type": "stream",
          "name": "stdout",
          "text": [
            "0.048452167562491516\n",
            "0.06491880639369454\n",
            "0.015028360716509611\n",
            "0.03140507731595107\n"
          ]
        },
        {
          "output_type": "stream",
          "name": "stderr",
          "text": [
            "\r 78%|███████▊  | 78/100 [06:49<01:51,  5.08s/it]"
          ]
        },
        {
          "output_type": "stream",
          "name": "stdout",
          "text": [
            "0.04671340608469282\n",
            "0.06250520576216444\n",
            "0.01455996861354245\n",
            "0.030267667115894167\n"
          ]
        },
        {
          "output_type": "stream",
          "name": "stderr",
          "text": [
            "\r 79%|███████▉  | 79/100 [06:54<01:46,  5.06s/it]"
          ]
        },
        {
          "output_type": "stream",
          "name": "stdout",
          "text": [
            "0.045157299991099416\n",
            "0.060217350549724616\n",
            "0.014030090643847871\n",
            "0.029226852033886017\n"
          ]
        },
        {
          "output_type": "stream",
          "name": "stderr",
          "text": [
            "\r 80%|████████  | 80/100 [06:59<01:41,  5.06s/it]"
          ]
        },
        {
          "output_type": "stream",
          "name": "stdout",
          "text": [
            "0.04367782398265896\n",
            "0.058204756338139145\n",
            "0.013566315023786654\n",
            "0.028349982961102364\n"
          ]
        },
        {
          "output_type": "stream",
          "name": "stderr",
          "text": [
            "\r 81%|████████  | 81/100 [07:04<01:35,  5.05s/it]"
          ]
        },
        {
          "output_type": "stream",
          "name": "stdout",
          "text": [
            "0.042427220371872985\n",
            "0.05653965575548462\n",
            "0.013219443880710726\n",
            "0.027536528116318203\n"
          ]
        },
        {
          "output_type": "stream",
          "name": "stderr",
          "text": [
            "\r 82%|████████▏ | 82/100 [07:09<01:30,  5.05s/it]"
          ]
        },
        {
          "output_type": "stream",
          "name": "stdout",
          "text": [
            "0.04130813795476326\n",
            "0.05485912600750403\n",
            "0.013014122205598243\n",
            "0.026956093946026074\n"
          ]
        },
        {
          "output_type": "stream",
          "name": "stderr",
          "text": [
            "\r 83%|████████▎ | 83/100 [07:14<01:25,  5.04s/it]"
          ]
        },
        {
          "output_type": "stream",
          "name": "stdout",
          "text": [
            "0.04054133470840082\n",
            "0.05358830602505547\n",
            "0.012692906086669502\n",
            "0.026404190744014462\n"
          ]
        },
        {
          "output_type": "stream",
          "name": "stderr",
          "text": [
            "\r 84%|████████▍ | 84/100 [07:19<01:20,  5.06s/it]"
          ]
        },
        {
          "output_type": "stream",
          "name": "stdout",
          "text": [
            "0.03971656669430987\n",
            "0.052503893367518234\n",
            "0.012453100427525706\n",
            "0.026056187289261942\n"
          ]
        },
        {
          "output_type": "stream",
          "name": "stderr",
          "text": [
            "\r 85%|████████▌ | 85/100 [07:24<01:15,  5.04s/it]"
          ]
        },
        {
          "output_type": "stream",
          "name": "stdout",
          "text": [
            "0.03917974800104237\n",
            "0.051879033907549346\n",
            "0.01230370690311544\n",
            "0.025705838159209876\n"
          ]
        },
        {
          "output_type": "stream",
          "name": "stderr",
          "text": [
            "\r 86%|████████▌ | 86/100 [07:29<01:10,  5.04s/it]"
          ]
        },
        {
          "output_type": "stream",
          "name": "stdout",
          "text": [
            "0.03869276582114445\n",
            "0.05112995110949982\n",
            "0.012207097163326281\n",
            "0.025441078259596423\n"
          ]
        },
        {
          "output_type": "stream",
          "name": "stderr",
          "text": [
            "\r 87%|████████▋ | 87/100 [07:34<01:05,  5.04s/it]"
          ]
        },
        {
          "output_type": "stream",
          "name": "stdout",
          "text": [
            "0.038339473583974756\n",
            "0.05054664881936133\n",
            "0.01219511037606305\n",
            "0.025356553087193614\n"
          ]
        },
        {
          "output_type": "stream",
          "name": "stderr",
          "text": [
            "\r 88%|████████▊ | 88/100 [07:39<01:00,  5.04s/it]"
          ]
        },
        {
          "output_type": "stream",
          "name": "stdout",
          "text": [
            "0.03822539697456411\n",
            "0.05027898260361478\n",
            "0.012183181696495257\n",
            "0.02536821378578876\n"
          ]
        },
        {
          "output_type": "stream",
          "name": "stderr",
          "text": [
            "\r 89%|████████▉ | 89/100 [07:44<00:55,  5.04s/it]"
          ]
        },
        {
          "output_type": "stream",
          "name": "stdout",
          "text": [
            "0.038215809044965375\n",
            "0.0502798880635857\n",
            "0.012174290209755769\n",
            "0.02536753477678111\n"
          ]
        },
        {
          "output_type": "stream",
          "name": "stderr",
          "text": [
            "\r 90%|█████████ | 90/100 [07:49<00:50,  5.05s/it]"
          ]
        },
        {
          "output_type": "stream",
          "name": "stdout",
          "text": [
            "0.03820943925896171\n",
            "0.050305788448199586\n",
            "0.012172416757764972\n",
            "0.02538688053163366\n"
          ]
        },
        {
          "output_type": "stream",
          "name": "stderr",
          "text": [
            "\r 91%|█████████ | 91/100 [07:54<00:45,  5.04s/it]"
          ]
        },
        {
          "output_type": "stream",
          "name": "stdout",
          "text": [
            "0.038232929050984535\n",
            "0.05039108085192549\n",
            "0.012206858707632483\n",
            "0.025454407862479572\n"
          ]
        },
        {
          "output_type": "stream",
          "name": "stderr",
          "text": [
            "\r 92%|█████████▏| 92/100 [07:59<00:40,  5.04s/it]"
          ]
        },
        {
          "output_type": "stream",
          "name": "stdout",
          "text": [
            "0.03832232640744798\n",
            "0.050521275308692326\n",
            "0.012299227207446679\n",
            "0.0255411187231379\n"
          ]
        },
        {
          "output_type": "stream",
          "name": "stderr",
          "text": [
            "\r 93%|█████████▎| 93/100 [08:04<00:35,  5.03s/it]"
          ]
        },
        {
          "output_type": "stream",
          "name": "stdout",
          "text": [
            "0.038452389187915964\n",
            "0.050535037229999365\n",
            "0.012460681721075935\n",
            "0.02581520838779932\n"
          ]
        },
        {
          "output_type": "stream",
          "name": "stderr",
          "text": [
            "\r 94%|█████████▍| 94/100 [08:09<00:30,  5.03s/it]"
          ]
        },
        {
          "output_type": "stream",
          "name": "stdout",
          "text": [
            "0.03883108686060539\n",
            "0.05093454786759554\n",
            "0.012553233236720545\n",
            "0.026030959047409846\n"
          ]
        },
        {
          "output_type": "stream",
          "name": "stderr",
          "text": [
            "\r 95%|█████████▌| 95/100 [08:14<00:25,  5.04s/it]"
          ]
        },
        {
          "output_type": "stream",
          "name": "stdout",
          "text": [
            "0.03911784838843267\n",
            "0.05136754930942177\n",
            "0.012596819207711912\n",
            "0.026173444084784954\n"
          ]
        },
        {
          "output_type": "stream",
          "name": "stderr",
          "text": [
            "\r 96%|█████████▌| 96/100 [08:19<00:20,  5.04s/it]"
          ]
        },
        {
          "output_type": "stream",
          "name": "stdout",
          "text": [
            "0.03931592721666512\n",
            "0.05177856488906267\n",
            "0.012697264550917749\n",
            "0.026449265405830237\n"
          ]
        },
        {
          "output_type": "stream",
          "name": "stderr",
          "text": [
            "\r 97%|█████████▋| 97/100 [08:24<00:15,  5.07s/it]"
          ]
        },
        {
          "output_type": "stream",
          "name": "stdout",
          "text": [
            "0.03970033036107902\n",
            "0.05240328839610577\n",
            "0.0128772963760249\n",
            "0.026861904500416055\n"
          ]
        },
        {
          "output_type": "stream",
          "name": "stderr",
          "text": [
            "\r 98%|█████████▊| 98/100 [08:29<00:10,  5.06s/it]"
          ]
        },
        {
          "output_type": "stream",
          "name": "stdout",
          "text": [
            "0.04028237991759186\n",
            "0.053194135633803055\n",
            "0.01304132747999339\n",
            "0.02721259731676449\n"
          ]
        },
        {
          "output_type": "stream",
          "name": "stderr",
          "text": [
            "\r 99%|█████████▉| 99/100 [08:35<00:05,  5.06s/it]"
          ]
        },
        {
          "output_type": "stream",
          "name": "stdout",
          "text": [
            "0.04079661433821394\n",
            "0.05386810099385887\n",
            "0.013102336406529674\n",
            "0.027276776030353826\n"
          ]
        },
        {
          "output_type": "stream",
          "name": "stderr",
          "text": [
            "100%|██████████| 100/100 [08:40<00:00,  5.20s/it]"
          ]
        },
        {
          "output_type": "stream",
          "name": "stdout",
          "text": [
            "0.040933514894669946\n",
            "0.0540236563376653\n"
          ]
        },
        {
          "output_type": "stream",
          "name": "stderr",
          "text": [
            "\n"
          ]
        },
        {
          "output_type": "display_data",
          "data": {
            "text/plain": [
              "<Figure size 1080x576 with 1 Axes>"
            ],
            "image/png": "[encoded data removed]"
          },
          "metadata": {
            "needs_background": "light"
          }
        },
        {
          "output_type": "stream",
          "name": "stdout",
          "text": [
            "tensor(0.1098, dtype=torch.float64, grad_fn=<SqrtBackward0>)\n",
            "tensor(1.0503, dtype=torch.float64, grad_fn=<MeanBackward0>)\n",
            "RMSE-transformers = 0.0967124290207692\n",
            "MAE-transformers= 0.0745929953579403\n"
          ]
        },
        {
          "output_type": "execute_result",
          "data": {
            "text/plain": [
              "[<matplotlib.lines.Line2D at 0x7f5470a56880>]"
            ]
          },
          "metadata": {},
          "execution_count": 141
        },
        {
          "output_type": "display_data",
          "data": {
            "text/plain": [
              "<Figure size 1080x576 with 1 Axes>"
            ],
            "image/png": "[encoded data removed]"
          },
          "metadata": {
            "needs_background": "light"
          }
        }
      ],
      "source": [
        "\n",
        "def split_dataset_into_seq(dataset, start_index=0, end_index=None, history_size=90, step=1):\n",
        "    '''split the dataset to have sequence of observations of length history size'''\n",
        "    dataset = np.array(dataset)\n",
        "    data = []\n",
        "    start_index = start_index + history_size\n",
        "    if end_index is None:\n",
        "        end_index = len(dataset)\n",
        "    for i in range(start_index, end_index):\n",
        "        indices = range(i - history_size, i, step)\n",
        "        data.append(dataset[indices])\n",
        "    return np.array(data)\n",
        "\n",
        "\n",
        "def split_dataset(data, TRAIN_SPLIT=0.7, VAL_SPLIT=0.5, save_path=None):\n",
        "    '''split the dataset into train, val and test splits'''\n",
        "    # normalization\n",
        "\n",
        "    data_mean = data.mean(axis=0)\n",
        "    data_std = data.std(axis=0)\n",
        "    data = (data - data_mean) / data_std\n",
        "    stats = (data_mean, data_std)\n",
        "   \n",
        "    data_in_seq = split_dataset_into_seq(data, start_index=0, end_index=None, history_size=90, step=1)\n",
        "\n",
        "    # split between validation dataset and test set:\n",
        "    train_data, val_data = train_test_split(data_in_seq, train_size=TRAIN_SPLIT, shuffle=True, random_state=123)\n",
        "    val_data, test_data = train_test_split(val_data, train_size=VAL_SPLIT, shuffle=True, random_state=123)\n",
        "    return train_data, val_data, test_data, stats\n",
        "\n",
        "\n",
        "def split_fn(chunk):\n",
        "    \"\"\"to split the dataset sequences into input and targets sequences\"\"\"\n",
        "\n",
        "    inputs = torch.tensor(chunk[:, :, :], device=device)\n",
        "    targets = torch.tensor(chunk[:, :, 0], device=device).unsqueeze(-1)\n",
        "\n",
        "    return inputs, targets\n",
        "\n",
        "\n",
        "def data_to_dataset(train_data, val_data, test_data, batch_size=64, target_features=list(range(5))):\n",
        "    '''\n",
        "    split each train split into inputs and targets\n",
        "    convert each train split into a tf.dataset\n",
        "    '''\n",
        "    x_train, y_train = split_fn(train_data)\n",
        "    x_val, y_val = split_fn(val_data)\n",
        "    x_test, y_test = split_fn(test_data)\n",
        "    train_dataset = torch.utils.data.TensorDataset(x_train, y_train)\n",
        "    val_dataset = torch.utils.data.TensorDataset(x_val, y_val)\n",
        "    test_dataset = torch.utils.data.TensorDataset(x_test, y_test)\n",
        "\n",
        "    train_loader = torch.utils.data.DataLoader(train_dataset, batch_size=batch_size)\n",
        "    val_loader = torch.utils.data.DataLoader(val_dataset, batch_size=batch_size)\n",
        "    test_loader = torch.utils.data.DataLoader(test_dataset, batch_size=batch_size)\n",
        "    return train_loader, val_loader, test_loader\n",
        "\n",
        "\n",
        "device = torch.device(\"cuda:0\" if torch.cuda.is_available() else \"cpu\")\n",
        "\n",
        "train_data, val_data, test_data, stats = split_dataset(data)\n",
        "train_dataset, val_dataset, test_dataset = data_to_dataset(train_data, val_data, test_data)\n",
        "\n",
        "\"\"\"Implementation of the Transformer model\"\"\"\n",
        "\n",
        "import torch.nn as nn\n",
        "import math\n",
        "\n",
        "\n",
        "class MultiHeadAttention(nn.Module):\n",
        "    '''Multi-head self-attention module'''\n",
        "\n",
        "    def __init__(self, D, H):\n",
        "        super(MultiHeadAttention, self).__init__()\n",
        "        self.H = H\n",
        "        self.D = D\n",
        "\n",
        "        self.wq = nn.Linear(D, D * H)\n",
        "        self.wk = nn.Linear(D, D * H)\n",
        "        self.wv = nn.Linear(D, D * H)\n",
        "\n",
        "        self.dense = nn.Linear(D * H, D)\n",
        "\n",
        "    def concat_heads(self, x):\n",
        "        '''(B, H, S, D) => (B, S, D*H)'''\n",
        "        B, H, S, D = x.shape\n",
        "        x = x.permute((0, 2, 1, 3)).contiguous()  # (B, S, H, D)\n",
        "        x = x.reshape((B, S, H * D))  # (B, S, D*H)\n",
        "        return x\n",
        "\n",
        "    def split_heads(self, x):\n",
        "        '''(B, S, D*H) => (B, H, S, D)'''\n",
        "        B, S, D_H = x.shape\n",
        "        x = x.reshape(B, S, self.H, self.D)  # (B, S, H, D)\n",
        "        x = x.permute((0, 2, 1, 3))  # (B, H, S, D)\n",
        "        return x\n",
        "\n",
        "    def forward(self, x, mask):\n",
        "        q = self.wq(x)  # (B, S, D*H)\n",
        "        k = self.wk(x)  # (B, S, D*H)\n",
        "        v = self.wv(x)  # (B, S, D*H)\n",
        "\n",
        "        q = self.split_heads(q)  # (B, H, S, D)\n",
        "        k = self.split_heads(k)  # (B, H, S, D)\n",
        "        v = self.split_heads(v)  # (B, H, S, D)\n",
        "\n",
        "        attention_scores = torch.matmul(q, k.transpose(-1, -2))  # (B,H,S,S)\n",
        "        attention_scores = attention_scores / math.sqrt(self.D)\n",
        "\n",
        "        # add the mask to the scaled tensor.\n",
        "        if mask is not None:\n",
        "            attention_scores += (mask * -1e9)\n",
        "\n",
        "        attention_weights = nn.Softmax(dim=-1)(attention_scores)\n",
        "        scaled_attention = torch.matmul(attention_weights, v)  # (B, H, S, D)\n",
        "        concat_attention = self.concat_heads(scaled_attention)  # (B, S, D*H)\n",
        "        output = self.dense(concat_attention)  # (B, S, D)\n",
        "\n",
        "        return output, attention_weights\n",
        "\n",
        "\n",
        "# Positional encodings\n",
        "def get_angles(pos, i, D):\n",
        "    angle_rates = 1 / np.power(10000, (2 * (i // 2)) / np.float32(D))\n",
        "    return pos * angle_rates\n",
        "\n",
        "\n",
        "def positional_encoding(D, position=100, dim=3, device=device):\n",
        "    angle_rads = get_angles(np.arange(position)[:, np.newaxis],\n",
        "                            np.arange(D)[np.newaxis, :],\n",
        "                            D)\n",
        "    # apply sin to even indices in the array; 2i\n",
        "    angle_rads[:, 0::2] = np.sin(angle_rads[:, 0::2])\n",
        "    # apply cos to odd indices in the array; 2i+1\n",
        "    angle_rads[:, 1::2] = np.cos(angle_rads[:, 1::2])\n",
        "    if dim == 3:\n",
        "        pos_encoding = angle_rads[np.newaxis, ...]\n",
        "    elif dim == 4:\n",
        "        pos_encoding = angle_rads[np.newaxis, np.newaxis, ...]\n",
        "    return torch.tensor(pos_encoding, device=device)\n",
        "\n",
        "\n",
        "# function that implement the look_ahead mask for masking future time steps.\n",
        "def create_look_ahead_mask(size, device=device):\n",
        "    mask = torch.ones((size, size), device=device)\n",
        "    mask = torch.triu(mask, diagonal=1)\n",
        "    return mask  # (size, size)\n",
        "\n",
        "\n",
        "\n",
        "class TransformerLayer(nn.Module):\n",
        "    def __init__(self, D, H, hidden_mlp_dim, dropout_rate):\n",
        "        super(TransformerLayer, self).__init__()\n",
        "        self.dropout_rate = dropout_rate\n",
        "        self.mlp_hidden = nn.Linear(D, hidden_mlp_dim)\n",
        "        self.mlp_out = nn.Linear(hidden_mlp_dim, D)\n",
        "        self.layernorm1 = nn.LayerNorm(D, eps=1e-9)\n",
        "        self.layernorm2 = nn.LayerNorm(D, eps=1e-9)\n",
        "        self.dropout1 = nn.Dropout(dropout_rate)\n",
        "        self.dropout2 = nn.Dropout(dropout_rate)\n",
        "\n",
        "        self.mha = MultiHeadAttention(D, H)\n",
        "\n",
        "    def forward(self, x, look_ahead_mask):\n",
        "        attn, attn_weights = self.mha(x, look_ahead_mask)  # (B, S, D)\n",
        "        attn = self.dropout1(attn)  # (B,S,D)\n",
        "        attn = self.layernorm1(attn + x)  # (B,S,D)\n",
        "\n",
        "        mlp_act = torch.relu(self.mlp_hidden(attn))\n",
        "        mlp_act = self.mlp_out(mlp_act)\n",
        "        mlp_act = self.dropout2(mlp_act)\n",
        "\n",
        "        output = self.layernorm2(mlp_act + attn)  # (B, S, D)\n",
        "\n",
        "        return output, attn_weights\n",
        "\n",
        "\n",
        "\n",
        "class Transformer(nn.Module):\n",
        "    '''Transformer Decoder Implementating several Decoder Layers.\n",
        "    '''\n",
        "\n",
        "    def __init__(self, num_layers, D, H, hidden_mlp_dim, inp_features, out_features, dropout_rate, pred_len):\n",
        "        super(Transformer, self).__init__()\n",
        "        self.D = D\n",
        "        self.sqrt_D = torch.tensor(math.sqrt(D))\n",
        "        self.num_layers = num_layers\n",
        "        self.input_projection = nn.LSTM(inp_features, D)  # multivariate input\n",
        "        self.output_projection = nn.Linear(D, out_features)  # multivariate output\n",
        "        self.pos_encoding = positional_encoding(D)\n",
        "        self.dec_layers = nn.ModuleList([TransformerLayer(D, H, hidden_mlp_dim,\n",
        "                                                          dropout_rate=dropout_rate\n",
        "                                                          ) for _ in range(num_layers)])\n",
        "        self.dropout = nn.Dropout(dropout_rate)\n",
        "        self.pred_len = pred_len\n",
        "        \n",
        "    def max_pooling(model_output, attention_mask):\n",
        "       token_embeddings = model_output[0] #First element of model_output contains all token embeddings\n",
        "       input_mask_expanded = attention_mask.unsqueeze(-1).expand(token_embeddings.size()).float()\n",
        "       token_embeddings[input_mask_expanded == 0] = -1e9  # Set padding tokens to large negative value\n",
        "       return torch.max(token_embeddings, 1)[0]\n",
        "\n",
        "    def forward(self, x, mask):\n",
        "        B, S, D = x.shape\n",
        "        attention_weights = {}\n",
        "        hidden = torch.zeros((1, B, self.D), dtype=torch.double)\n",
        "        x, _ = self.input_projection(x.permute(1, 0, 2), (hidden, hidden))\n",
        "        x = x.permute(1, 0, 2)\n",
        "        x *= self.sqrt_D\n",
        "\n",
        "        x += self.pos_encoding[:, :S, :]\n",
        "        #print(x.shape)\n",
        "\n",
        "        for i in range(self.num_layers):\n",
        "            x, block = self.dec_layers[i](x=x,\n",
        "                                          look_ahead_mask=mask)\n",
        "            attention_weights['decoder_layer{}'.format(i + 1)] = block\n",
        "\n",
        "        x = self.output_projection(x)\n",
        "        #print(x.shape)\n",
        "        #print(self.pred_len)\n",
        "        x = x[:, -self.pred_len:, :]\n",
        "\n",
        "        return x, attention_weights  # (B,S,S)\n",
        "\n",
        "\n",
        "# Test Forward pass on the Transformer:\n",
        "pred_len = 90\n",
        "transformer = Transformer(num_layers=1, D=32, H=8, hidden_mlp_dim=16,\n",
        "                          inp_features=5, out_features=1, dropout_rate=0.1, pred_len=pred_len).double()\n",
        "transformer.to(device)\n",
        "optimizer = torch.optim.RMSprop(transformer.parameters(),\n",
        "                                lr=0.00005)\n",
        "\n",
        "best_model = transformer\n",
        "from tqdm import tqdm\n",
        "\n",
        "n_epochs = 100\n",
        "niter = len(train_dataset)\n",
        "losses, val_losses = [], []\n",
        "\n",
        "val_loss = 1e5\n",
        "\n",
        "for e in tqdm(range(n_epochs)):\n",
        "\n",
        "    # one epoch on train set\n",
        "    transformer.train()\n",
        "    sum_train_loss = 0.0\n",
        "    for x, y in train_dataset:\n",
        "\n",
        "        S = x.shape[1]\n",
        "        y = y[:, 0:pred_len, :]\n",
        "        mask = create_look_ahead_mask(S)\n",
        "        out, _ = transformer(x, mask)\n",
        "        loss = torch.nn.MSELoss()(out, y)\n",
        "        sum_train_loss += loss.item()\n",
        "        loss.backward()\n",
        "        optimizer.step()\n",
        "    losses.append(sum_train_loss / niter)\n",
        "\n",
        "    # Evaluate on val set\n",
        "    transformer.eval()\n",
        "    sum_val_loss = 0.0\n",
        "    for i, (x, y) in enumerate(val_dataset):\n",
        "        S = x.shape[1]\n",
        "        mask = create_look_ahead_mask(S)\n",
        "        out, _ = transformer(x, mask)\n",
        "        loss = torch.nn.MSELoss()(out, y)\n",
        "        sum_val_loss += loss.item()\n",
        "        if sum_val_loss < val_loss:\n",
        "          val_loss = sum_val_loss\n",
        "          best_model = transformer\n",
        "        print(sum_val_loss)\n",
        "    val_losses.append(sum_val_loss / (i + 1))\n",
        "\n",
        "plt.plot(losses, 'red', label='Train Loss')\n",
        "plt.plot(val_losses, 'blue', label='Validation Loss')\n",
        "plt.show()\n",
        "plt.close()\n",
        "\n",
        "test_losses, test_preds = [], []\n",
        "transformer.eval()\n",
        "for (x, y) in test_dataset:\n",
        "    S = x.shape[-2]\n",
        "    y_pred, _ = transformer(x,\n",
        "                            mask=create_look_ahead_mask(S))\n",
        "    loss_test = torch.nn.MSELoss()(y_pred, y)  # (B,S)\n",
        "    test_losses.append(loss_test.item())\n",
        "    test_preds.append(y_pred.detach().cpu().numpy())\n",
        "test_preds = np.vstack(test_preds)\n",
        "np.mean(test_losses)\n",
        "\n",
        "\n",
        "def RMSELoss(y_pred, y):\n",
        "    return torch.sqrt(torch.mean((y_pred - y) ** 2))\n",
        "\n",
        "\n",
        "criterion = RMSELoss\n",
        "loss = criterion(y_pred, y)\n",
        "print(loss)\n",
        "\n",
        "\n",
        "def MAPELoss(y_pred, y):\n",
        "    return torch.mean(torch.abs((y - y_pred) / y))\n",
        "\n",
        "\n",
        "criterion = MAPELoss\n",
        "loss = criterion(y_pred, y)\n",
        "print(loss)\n",
        "\n",
        "\n",
        "# Display predictions vs ground truth:\n",
        "# we'll take one random element of the first batch\n",
        "# and display the first feature\n",
        "feature_num = 0\n",
        "\n",
        "_, y_test = test_dataset.dataset.tensors\n",
        "y_test = y_test[1, :, feature_num].cpu().numpy()\n",
        "pred = test_preds[1, :, feature_num]\n",
        "x = np.linspace(1, pred_len, pred_len)\n",
        "'''plt.plot(x, pred, 'red', lw=2, label='predictions for sample: {}'.format(1))\n",
        "plt.plot(x, y_test[:pred_len], 'cyan', lw=2, label='ground-truth for sample: {}'.format(1))\n",
        "plt.legend(fontsize=10)\n",
        "plt.show()'''\n",
        "\n",
        "MSE = np.square(np.subtract(y_test,pred)).mean() \n",
        "RMSE = math.sqrt(MSE) #RMSE\n",
        "print('RMSE-transformers =' , RMSE)\n",
        "\n",
        "MAE = np.mean(np.abs(pred - y_test))    # MAE\n",
        "print('MAE-transformers=', MAE)\n",
        "\n",
        "data_mean, data_std = stats \n",
        "pred = test_preds*data_std[0]+ data_mean[0]\n",
        "y = y_test*data_std[0] + data_mean[0]\n",
        "\n",
        "prediction = pd.DataFrame(pred[1],columns=['prediction_TRANS']).to_csv('T30.csv')\n",
        "prediction = pd.DataFrame(y, columns=['realdata']).to_csv('realdata30.csv')\n",
        "plt.plot(y, color='blue',marker='o', markerfacecolor='blue', markersize=5,)\n",
        "plt.plot(pred[1], alpha=0.7, marker = '+',markersize=5, color='orange', linewidth = '5')"
      ]
    },
    {
      "cell_type": "markdown",
      "metadata": {
        "id": "XEUqijxyxruH"
      },
      "source": [
        "RNN"
      ]
    },
    {
      "cell_type": "code",
      "execution_count": null,
      "metadata": {
        "colab": {
          "base_uri": "https://localhost:8080/",
          "height": 1000
        },
        "id": "KT9IgrZs82O6",
        "outputId": "da0293a4-5a6c-4555-9e80-be50148ffa20"
      },
      "outputs": [
        {
          "output_type": "stream",
          "name": "stdout",
          "text": [
            "Epoch 1/100\n",
            "15/15 - 1s - loss: 0.7890 - val_loss: 0.5586 - 1s/epoch - 100ms/step\n",
            "Epoch 2/100\n",
            "15/15 - 1s - loss: 0.5198 - val_loss: 0.5265 - 515ms/epoch - 34ms/step\n",
            "Epoch 3/100\n",
            "15/15 - 1s - loss: 0.4961 - val_loss: 0.5066 - 504ms/epoch - 34ms/step\n",
            "Epoch 4/100\n",
            "15/15 - 1s - loss: 0.4772 - val_loss: 0.4876 - 515ms/epoch - 34ms/step\n",
            "Epoch 5/100\n",
            "15/15 - 1s - loss: 0.4627 - val_loss: 0.4844 - 507ms/epoch - 34ms/step\n",
            "Epoch 6/100\n",
            "15/15 - 1s - loss: 0.4555 - val_loss: 0.4703 - 527ms/epoch - 35ms/step\n",
            "Epoch 7/100\n",
            "15/15 - 0s - loss: 0.4361 - val_loss: 0.4445 - 498ms/epoch - 33ms/step\n",
            "Epoch 8/100\n",
            "15/15 - 1s - loss: 0.4140 - val_loss: 0.4219 - 512ms/epoch - 34ms/step\n",
            "Epoch 9/100\n",
            "15/15 - 1s - loss: 0.4132 - val_loss: 0.4149 - 508ms/epoch - 34ms/step\n",
            "Epoch 10/100\n",
            "15/15 - 1s - loss: 0.3990 - val_loss: 0.4017 - 511ms/epoch - 34ms/step\n",
            "Epoch 11/100\n",
            "15/15 - 0s - loss: 0.3824 - val_loss: 0.3893 - 494ms/epoch - 33ms/step\n",
            "Epoch 12/100\n",
            "15/15 - 1s - loss: 0.3718 - val_loss: 0.3800 - 517ms/epoch - 34ms/step\n",
            "Epoch 13/100\n",
            "15/15 - 1s - loss: 0.3643 - val_loss: 0.3738 - 505ms/epoch - 34ms/step\n",
            "Epoch 14/100\n",
            "15/15 - 1s - loss: 0.3583 - val_loss: 0.3763 - 521ms/epoch - 35ms/step\n",
            "Epoch 15/100\n",
            "15/15 - 0s - loss: 0.3558 - val_loss: 0.3685 - 500ms/epoch - 33ms/step\n",
            "Epoch 16/100\n",
            "15/15 - 1s - loss: 0.3803 - val_loss: 0.4265 - 507ms/epoch - 34ms/step\n",
            "Epoch 17/100\n",
            "15/15 - 1s - loss: 0.4084 - val_loss: 0.4247 - 512ms/epoch - 34ms/step\n",
            "Epoch 18/100\n",
            "15/15 - 1s - loss: 0.3924 - val_loss: 0.4006 - 516ms/epoch - 34ms/step\n",
            "Epoch 19/100\n",
            "15/15 - 1s - loss: 0.3792 - val_loss: 0.3915 - 507ms/epoch - 34ms/step\n",
            "Epoch 20/100\n",
            "15/15 - 1s - loss: 0.3737 - val_loss: 0.4043 - 504ms/epoch - 34ms/step\n",
            "Epoch 21/100\n",
            "15/15 - 1s - loss: 0.3773 - val_loss: 0.3847 - 502ms/epoch - 33ms/step\n",
            "Epoch 22/100\n",
            "15/15 - 1s - loss: 0.3700 - val_loss: 0.3814 - 504ms/epoch - 34ms/step\n",
            "Epoch 23/100\n",
            "15/15 - 1s - loss: 0.3645 - val_loss: 0.3745 - 500ms/epoch - 33ms/step\n",
            "Epoch 24/100\n",
            "15/15 - 1s - loss: 0.3569 - val_loss: 0.3715 - 536ms/epoch - 36ms/step\n",
            "Epoch 25/100\n",
            "15/15 - 1s - loss: 0.3517 - val_loss: 0.3724 - 846ms/epoch - 56ms/step\n",
            "Epoch 26/100\n",
            "15/15 - 1s - loss: 0.3507 - val_loss: 0.3749 - 977ms/epoch - 65ms/step\n",
            "Epoch 27/100\n",
            "15/15 - 1s - loss: 0.3545 - val_loss: 0.3671 - 988ms/epoch - 66ms/step\n",
            "Epoch 28/100\n",
            "15/15 - 1s - loss: 0.3459 - val_loss: 0.3633 - 944ms/epoch - 63ms/step\n",
            "Epoch 29/100\n",
            "15/15 - 1s - loss: 0.3446 - val_loss: 0.3601 - 914ms/epoch - 61ms/step\n",
            "Epoch 30/100\n",
            "15/15 - 1s - loss: 0.3398 - val_loss: 0.3581 - 794ms/epoch - 53ms/step\n",
            "Epoch 31/100\n",
            "15/15 - 1s - loss: 0.3370 - val_loss: 0.3549 - 509ms/epoch - 34ms/step\n",
            "Epoch 32/100\n",
            "15/15 - 1s - loss: 0.3334 - val_loss: 0.3570 - 506ms/epoch - 34ms/step\n",
            "Epoch 33/100\n",
            "15/15 - 1s - loss: 0.3309 - val_loss: 0.3533 - 517ms/epoch - 34ms/step\n",
            "Epoch 34/100\n",
            "15/15 - 1s - loss: 0.3287 - val_loss: 0.3498 - 509ms/epoch - 34ms/step\n",
            "Epoch 35/100\n",
            "15/15 - 1s - loss: 0.3264 - val_loss: 0.3469 - 512ms/epoch - 34ms/step\n",
            "Epoch 36/100\n",
            "15/15 - 1s - loss: 0.3248 - val_loss: 0.3474 - 510ms/epoch - 34ms/step\n",
            "Epoch 37/100\n",
            "15/15 - 1s - loss: 0.3239 - val_loss: 0.3461 - 515ms/epoch - 34ms/step\n",
            "Epoch 38/100\n",
            "15/15 - 1s - loss: 0.3231 - val_loss: 0.3452 - 501ms/epoch - 33ms/step\n",
            "Epoch 39/100\n",
            "15/15 - 1s - loss: 0.3221 - val_loss: 0.3451 - 509ms/epoch - 34ms/step\n",
            "Epoch 40/100\n",
            "15/15 - 0s - loss: 0.3315 - val_loss: 0.3541 - 499ms/epoch - 33ms/step\n",
            "Epoch 41/100\n",
            "15/15 - 1s - loss: 0.3306 - val_loss: 0.3480 - 517ms/epoch - 34ms/step\n",
            "Epoch 42/100\n",
            "15/15 - 1s - loss: 0.3238 - val_loss: 0.3460 - 508ms/epoch - 34ms/step\n",
            "Epoch 43/100\n",
            "15/15 - 1s - loss: 0.3196 - val_loss: 0.3424 - 502ms/epoch - 33ms/step\n",
            "Epoch 44/100\n",
            "15/15 - 1s - loss: 0.3198 - val_loss: 0.3451 - 507ms/epoch - 34ms/step\n",
            "Epoch 45/100\n",
            "15/15 - 1s - loss: 0.3172 - val_loss: 0.3404 - 511ms/epoch - 34ms/step\n",
            "Epoch 46/100\n",
            "15/15 - 1s - loss: 0.3139 - val_loss: 0.3418 - 504ms/epoch - 34ms/step\n",
            "Epoch 47/100\n",
            "15/15 - 1s - loss: 0.3137 - val_loss: 0.3380 - 503ms/epoch - 34ms/step\n",
            "Epoch 48/100\n",
            "15/15 - 1s - loss: 0.3119 - val_loss: 0.3384 - 506ms/epoch - 34ms/step\n",
            "Epoch 49/100\n",
            "15/15 - 1s - loss: 0.3104 - val_loss: 0.3384 - 519ms/epoch - 35ms/step\n",
            "Epoch 50/100\n",
            "15/15 - 1s - loss: 0.3098 - val_loss: 0.3355 - 510ms/epoch - 34ms/step\n",
            "Epoch 51/100\n",
            "15/15 - 1s - loss: 0.3084 - val_loss: 0.3354 - 511ms/epoch - 34ms/step\n",
            "Epoch 52/100\n",
            "15/15 - 1s - loss: 0.3068 - val_loss: 0.3337 - 513ms/epoch - 34ms/step\n",
            "Epoch 53/100\n",
            "15/15 - 1s - loss: 0.3057 - val_loss: 0.3328 - 502ms/epoch - 33ms/step\n",
            "Epoch 54/100\n",
            "15/15 - 1s - loss: 0.3047 - val_loss: 0.3321 - 511ms/epoch - 34ms/step\n",
            "Epoch 55/100\n",
            "15/15 - 1s - loss: 0.3035 - val_loss: 0.3336 - 515ms/epoch - 34ms/step\n",
            "Epoch 56/100\n",
            "15/15 - 1s - loss: 0.3031 - val_loss: 0.3314 - 505ms/epoch - 34ms/step\n",
            "Epoch 57/100\n",
            "15/15 - 1s - loss: 0.3019 - val_loss: 0.3355 - 507ms/epoch - 34ms/step\n",
            "Epoch 58/100\n",
            "15/15 - 0s - loss: 0.3026 - val_loss: 0.3336 - 498ms/epoch - 33ms/step\n",
            "Epoch 59/100\n",
            "15/15 - 1s - loss: 0.3008 - val_loss: 0.3288 - 501ms/epoch - 33ms/step\n",
            "Epoch 60/100\n",
            "15/15 - 0s - loss: 0.2995 - val_loss: 0.3292 - 495ms/epoch - 33ms/step\n",
            "Epoch 61/100\n",
            "15/15 - 1s - loss: 0.2996 - val_loss: 0.3285 - 507ms/epoch - 34ms/step\n",
            "Epoch 62/100\n",
            "15/15 - 1s - loss: 0.2980 - val_loss: 0.3302 - 506ms/epoch - 34ms/step\n",
            "Epoch 63/100\n",
            "15/15 - 1s - loss: 0.2997 - val_loss: 0.3315 - 509ms/epoch - 34ms/step\n",
            "Epoch 64/100\n",
            "15/15 - 1s - loss: 0.2973 - val_loss: 0.3264 - 504ms/epoch - 34ms/step\n",
            "Epoch 65/100\n",
            "15/15 - 0s - loss: 0.2946 - val_loss: 0.3285 - 498ms/epoch - 33ms/step\n",
            "Epoch 66/100\n",
            "15/15 - 1s - loss: 0.2945 - val_loss: 0.3267 - 505ms/epoch - 34ms/step\n",
            "Epoch 67/100\n",
            "15/15 - 1s - loss: 0.2939 - val_loss: 0.3251 - 520ms/epoch - 35ms/step\n",
            "Epoch 68/100\n",
            "15/15 - 1s - loss: 0.2922 - val_loss: 0.3274 - 513ms/epoch - 34ms/step\n",
            "Epoch 69/100\n",
            "15/15 - 1s - loss: 0.2918 - val_loss: 0.3248 - 507ms/epoch - 34ms/step\n",
            "Epoch 70/100\n",
            "15/15 - 0s - loss: 0.2894 - val_loss: 0.3218 - 499ms/epoch - 33ms/step\n",
            "Epoch 71/100\n",
            "15/15 - 1s - loss: 0.2877 - val_loss: 0.3210 - 509ms/epoch - 34ms/step\n",
            "Epoch 72/100\n",
            "15/15 - 1s - loss: 0.2868 - val_loss: 0.3217 - 504ms/epoch - 34ms/step\n",
            "Epoch 73/100\n",
            "15/15 - 1s - loss: 0.2861 - val_loss: 0.3212 - 507ms/epoch - 34ms/step\n",
            "Epoch 74/100\n",
            "15/15 - 1s - loss: 0.2862 - val_loss: 0.3208 - 505ms/epoch - 34ms/step\n",
            "Epoch 75/100\n",
            "15/15 - 1s - loss: 0.2850 - val_loss: 0.3191 - 523ms/epoch - 35ms/step\n",
            "Epoch 76/100\n",
            "15/15 - 1s - loss: 0.2836 - val_loss: 0.3184 - 511ms/epoch - 34ms/step\n",
            "Epoch 77/100\n",
            "15/15 - 1s - loss: 0.2828 - val_loss: 0.3176 - 515ms/epoch - 34ms/step\n",
            "Epoch 78/100\n",
            "15/15 - 0s - loss: 0.2817 - val_loss: 0.3162 - 500ms/epoch - 33ms/step\n",
            "Epoch 79/100\n",
            "15/15 - 1s - loss: 0.2799 - val_loss: 0.3150 - 520ms/epoch - 35ms/step\n",
            "Epoch 80/100\n",
            "15/15 - 1s - loss: 0.2794 - val_loss: 0.3153 - 506ms/epoch - 34ms/step\n",
            "Epoch 81/100\n",
            "15/15 - 1s - loss: 0.2786 - val_loss: 0.3134 - 504ms/epoch - 34ms/step\n",
            "Epoch 82/100\n",
            "15/15 - 0s - loss: 0.2793 - val_loss: 0.3141 - 499ms/epoch - 33ms/step\n",
            "Epoch 83/100\n",
            "15/15 - 1s - loss: 0.2769 - val_loss: 0.3122 - 514ms/epoch - 34ms/step\n",
            "Epoch 84/100\n",
            "15/15 - 1s - loss: 0.2757 - val_loss: 0.3121 - 509ms/epoch - 34ms/step\n",
            "Epoch 85/100\n",
            "15/15 - 1s - loss: 0.2768 - val_loss: 0.3136 - 505ms/epoch - 34ms/step\n",
            "Epoch 86/100\n",
            "15/15 - 1s - loss: 0.2757 - val_loss: 0.3140 - 515ms/epoch - 34ms/step\n",
            "Epoch 87/100\n",
            "15/15 - 1s - loss: 0.2812 - val_loss: 0.3138 - 523ms/epoch - 35ms/step\n",
            "Epoch 88/100\n",
            "15/15 - 1s - loss: 0.2751 - val_loss: 0.3102 - 500ms/epoch - 33ms/step\n",
            "Epoch 89/100\n",
            "15/15 - 1s - loss: 0.2724 - val_loss: 0.3093 - 516ms/epoch - 34ms/step\n",
            "Epoch 90/100\n",
            "15/15 - 1s - loss: 0.2703 - val_loss: 0.3059 - 504ms/epoch - 34ms/step\n",
            "Epoch 91/100\n",
            "15/15 - 1s - loss: 0.2687 - val_loss: 0.3050 - 509ms/epoch - 34ms/step\n",
            "Epoch 92/100\n",
            "15/15 - 0s - loss: 0.2676 - val_loss: 0.3044 - 492ms/epoch - 33ms/step\n",
            "Epoch 93/100\n",
            "15/15 - 1s - loss: 0.2665 - val_loss: 0.3039 - 509ms/epoch - 34ms/step\n",
            "Epoch 94/100\n",
            "15/15 - 1s - loss: 0.2658 - val_loss: 0.3062 - 500ms/epoch - 33ms/step\n",
            "Epoch 95/100\n",
            "15/15 - 1s - loss: 0.2664 - val_loss: 0.3063 - 522ms/epoch - 35ms/step\n",
            "Epoch 96/100\n",
            "15/15 - 0s - loss: 0.2650 - val_loss: 0.3021 - 500ms/epoch - 33ms/step\n",
            "Epoch 97/100\n",
            "15/15 - 1s - loss: 0.2637 - val_loss: 0.3016 - 528ms/epoch - 35ms/step\n",
            "Epoch 98/100\n",
            "15/15 - 0s - loss: 0.2633 - val_loss: 0.3011 - 488ms/epoch - 33ms/step\n",
            "Epoch 99/100\n",
            "15/15 - 1s - loss: 0.2618 - val_loss: 0.2992 - 514ms/epoch - 34ms/step\n",
            "Epoch 100/100\n",
            "15/15 - 0s - loss: 0.2607 - val_loss: 0.2988 - 485ms/epoch - 32ms/step\n",
            "7/7 [==============================] - 0s 9ms/step\n"
          ]
        },
        {
          "output_type": "display_data",
          "data": {
            "text/plain": [
              "<Figure size 1080x576 with 1 Axes>"
            ],
            "image/png": "[encoded data removed]"
          },
          "metadata": {
            "needs_background": "light"
          }
        },
        {
          "output_type": "stream",
          "name": "stdout",
          "text": [
            "RMSE-RNN = 0.5615560758426517\n",
            "MAE-RNN = 0.4232094072584599\n"
          ]
        },
        {
          "output_type": "display_data",
          "data": {
            "text/plain": [
              "<Figure size 1080x576 with 1 Axes>"
            ],
            "image/png": "[encoded data removed]"
          },
          "metadata": {
            "needs_background": "light"
          }
        }
      ],
      "source": [
        "from keras.callbacks import History\n",
        "\n",
        "trainX, trainY = train_dataset.dataset.tensors[0].detach().numpy(), train_dataset.dataset.tensors[1].detach().numpy()\n",
        "trainY = trainY[:, 0:pred_len, :]\n",
        "testX, testY = test_dataset.dataset.tensors[0].detach().numpy(), test_dataset.dataset.tensors[1].detach().numpy()\n",
        "testY = testY[:, 0:pred_len, :]\n",
        "x_val, y_val = val_dataset.dataset.tensors[0].detach().numpy(), val_dataset.dataset.tensors[1].detach().numpy()\n",
        "y_val = y_val[:, 0:pred_len, :]\n",
        "\n",
        "def create_RNN(hidden_units, dense_units, input_shape, activation):\n",
        "    model = Sequential()\n",
        "    model.add(SimpleRNN(hidden_units, input_shape=input_shape, \n",
        "                        activation=activation[0]))\n",
        "    model.add(Dense(units=dense_units, activation=activation[1]))\n",
        "    model.compile(loss='mean_squared_error', optimizer='adam')\n",
        "    return model\n",
        "\n",
        "model = create_RNN(hidden_units=128, dense_units = pred_len, input_shape =(trainX.shape[1], trainX.shape[2]),  \n",
        "                   activation=['tanh', 'tanh'])\n",
        "                   \n",
        "model_fit = model.fit(trainX, trainY, epochs=100, batch_size=64, verbose=2, validation_data=(x_val,y_val))\n",
        "model_output = model.predict(testX)\n",
        "results = pd.DataFrame({\"Train Loss\": model_fit.history['loss'], \"Validation Loss\": model_fit.history['val_loss']})\n",
        "#results[[\"Train results\", \"Validation Loss\"]].plot()\n",
        "plt.plot(results['Train Loss'])\n",
        "plt.show()\n",
        "\n",
        "\n",
        "testY = testY.reshape(testY.shape[0], testY.shape[1], )\n",
        "\n",
        "\n",
        "#MAE and RMSE\n",
        "MSE = np.square(np.subtract(testY,model_output)).mean() \n",
        "RMSE = math.sqrt(MSE)\n",
        "print('RMSE-RNN =', RMSE)\n",
        "\n",
        "mae = np.mean(np.abs(model_output - testY))    # MAE\n",
        "print('MAE-RNN =', mae)\n",
        "prediction_RNN = model_output\n",
        "\n",
        "data_mean, data_std = stats \n",
        "prediction_RNN = prediction_RNN*data_std[0]+ data_mean[0]\n",
        "testY = testY*data_std[0] + data_mean[0]\n",
        "\n",
        "plt.plot(testY[1], color='blue',label='Actual power consumption data')\n",
        "plt.plot(prediction_RNN[1], alpha=0.7, color='yellow',label='RNN')\n",
        "prediction = pd.DataFrame(prediction_RNN[1], columns=['prediction_RNN']).to_csv('RNN7.csv')\n"
      ]
    },
    {
      "cell_type": "markdown",
      "metadata": {
        "id": "csvmczq7RcyJ"
      },
      "source": [
        "LSTM"
      ]
    },
    {
      "cell_type": "code",
      "execution_count": null,
      "metadata": {
        "colab": {
          "base_uri": "https://localhost:8080/",
          "height": 1000
        },
        "id": "VYZYdesDReVX",
        "outputId": "712a16bd-19e5-413c-8f66-d07816ca05b3"
      },
      "outputs": [
        {
          "output_type": "stream",
          "name": "stdout",
          "text": [
            "Epoch 1/100\n",
            "15/15 [==============================] - 5s 200ms/step - loss: 0.7824 - mse: 0.7824 - val_loss: 0.5929 - val_mse: 0.5929\n",
            "Epoch 2/100\n",
            "15/15 [==============================] - 2s 166ms/step - loss: 0.4983 - mse: 0.4983 - val_loss: 0.4759 - val_mse: 0.4759\n",
            "Epoch 3/100\n",
            "15/15 [==============================] - 2s 163ms/step - loss: 0.4526 - mse: 0.4526 - val_loss: 0.4608 - val_mse: 0.4608\n",
            "Epoch 4/100\n",
            "15/15 [==============================] - 2s 164ms/step - loss: 0.4369 - mse: 0.4369 - val_loss: 0.4450 - val_mse: 0.4450\n",
            "Epoch 5/100\n",
            "15/15 [==============================] - 2s 164ms/step - loss: 0.4205 - mse: 0.4205 - val_loss: 0.4319 - val_mse: 0.4319\n",
            "Epoch 6/100\n",
            "15/15 [==============================] - 2s 163ms/step - loss: 0.4010 - mse: 0.4010 - val_loss: 0.4052 - val_mse: 0.4052\n",
            "Epoch 7/100\n",
            "15/15 [==============================] - 2s 164ms/step - loss: 0.3835 - mse: 0.3835 - val_loss: 0.3864 - val_mse: 0.3864\n",
            "Epoch 8/100\n",
            "15/15 [==============================] - 2s 165ms/step - loss: 0.3713 - mse: 0.3713 - val_loss: 0.3858 - val_mse: 0.3858\n",
            "Epoch 9/100\n",
            "15/15 [==============================] - 2s 165ms/step - loss: 0.3697 - mse: 0.3697 - val_loss: 0.3750 - val_mse: 0.3750\n",
            "Epoch 10/100\n",
            "15/15 [==============================] - 2s 163ms/step - loss: 0.3580 - mse: 0.3580 - val_loss: 0.3671 - val_mse: 0.3671\n",
            "Epoch 11/100\n",
            "15/15 [==============================] - 2s 164ms/step - loss: 0.3530 - mse: 0.3530 - val_loss: 0.3642 - val_mse: 0.3642\n",
            "Epoch 12/100\n",
            "15/15 [==============================] - 2s 166ms/step - loss: 0.3481 - mse: 0.3481 - val_loss: 0.3589 - val_mse: 0.3589\n",
            "Epoch 13/100\n",
            "15/15 [==============================] - 2s 165ms/step - loss: 0.3439 - mse: 0.3439 - val_loss: 0.3565 - val_mse: 0.3565\n",
            "Epoch 14/100\n",
            "15/15 [==============================] - 2s 165ms/step - loss: 0.3406 - mse: 0.3406 - val_loss: 0.3538 - val_mse: 0.3538\n",
            "Epoch 15/100\n",
            "15/15 [==============================] - 2s 167ms/step - loss: 0.3377 - mse: 0.3377 - val_loss: 0.3515 - val_mse: 0.3515\n",
            "Epoch 16/100\n",
            "15/15 [==============================] - 2s 164ms/step - loss: 0.3350 - mse: 0.3350 - val_loss: 0.3498 - val_mse: 0.3498\n",
            "Epoch 17/100\n",
            "15/15 [==============================] - 2s 167ms/step - loss: 0.3327 - mse: 0.3327 - val_loss: 0.3476 - val_mse: 0.3476\n",
            "Epoch 18/100\n",
            "15/15 [==============================] - 2s 163ms/step - loss: 0.3300 - mse: 0.3300 - val_loss: 0.3475 - val_mse: 0.3475\n",
            "Epoch 19/100\n",
            "15/15 [==============================] - 2s 156ms/step - loss: 0.3290 - mse: 0.3290 - val_loss: 0.3440 - val_mse: 0.3440\n",
            "Epoch 20/100\n",
            "15/15 [==============================] - 2s 154ms/step - loss: 0.3254 - mse: 0.3254 - val_loss: 0.3430 - val_mse: 0.3430\n",
            "Epoch 21/100\n",
            "15/15 [==============================] - 2s 159ms/step - loss: 0.3232 - mse: 0.3232 - val_loss: 0.3397 - val_mse: 0.3397\n",
            "Epoch 22/100\n",
            "15/15 [==============================] - 2s 163ms/step - loss: 0.3202 - mse: 0.3202 - val_loss: 0.3373 - val_mse: 0.3373\n",
            "Epoch 23/100\n",
            "15/15 [==============================] - 2s 165ms/step - loss: 0.3178 - mse: 0.3178 - val_loss: 0.3344 - val_mse: 0.3344\n",
            "Epoch 24/100\n",
            "15/15 [==============================] - 2s 163ms/step - loss: 0.3146 - mse: 0.3146 - val_loss: 0.3318 - val_mse: 0.3318\n",
            "Epoch 25/100\n",
            "15/15 [==============================] - 2s 164ms/step - loss: 0.3121 - mse: 0.3121 - val_loss: 0.3301 - val_mse: 0.3301\n",
            "Epoch 26/100\n",
            "15/15 [==============================] - 2s 164ms/step - loss: 0.3103 - mse: 0.3103 - val_loss: 0.3274 - val_mse: 0.3274\n",
            "Epoch 27/100\n",
            "15/15 [==============================] - 2s 166ms/step - loss: 0.3059 - mse: 0.3059 - val_loss: 0.3240 - val_mse: 0.3240\n",
            "Epoch 28/100\n",
            "15/15 [==============================] - 2s 167ms/step - loss: 0.3032 - mse: 0.3032 - val_loss: 0.3212 - val_mse: 0.3212\n",
            "Epoch 29/100\n",
            "15/15 [==============================] - 2s 164ms/step - loss: 0.3004 - mse: 0.3004 - val_loss: 0.3192 - val_mse: 0.3192\n",
            "Epoch 30/100\n",
            "15/15 [==============================] - 3s 167ms/step - loss: 0.2983 - mse: 0.2983 - val_loss: 0.3169 - val_mse: 0.3169\n",
            "Epoch 31/100\n",
            "15/15 [==============================] - 2s 165ms/step - loss: 0.2954 - mse: 0.2954 - val_loss: 0.3145 - val_mse: 0.3145\n",
            "Epoch 32/100\n",
            "15/15 [==============================] - 3s 187ms/step - loss: 0.2931 - mse: 0.2931 - val_loss: 0.3134 - val_mse: 0.3134\n",
            "Epoch 33/100\n",
            "15/15 [==============================] - 2s 166ms/step - loss: 0.2917 - mse: 0.2917 - val_loss: 0.3133 - val_mse: 0.3133\n",
            "Epoch 34/100\n",
            "15/15 [==============================] - 2s 165ms/step - loss: 0.2890 - mse: 0.2890 - val_loss: 0.3103 - val_mse: 0.3103\n",
            "Epoch 35/100\n",
            "15/15 [==============================] - 2s 165ms/step - loss: 0.2868 - mse: 0.2868 - val_loss: 0.3084 - val_mse: 0.3084\n",
            "Epoch 36/100\n",
            "15/15 [==============================] - 4s 247ms/step - loss: 0.2844 - mse: 0.2844 - val_loss: 0.3064 - val_mse: 0.3064\n",
            "Epoch 37/100\n",
            "15/15 [==============================] - 4s 257ms/step - loss: 0.2820 - mse: 0.2820 - val_loss: 0.3051 - val_mse: 0.3051\n",
            "Epoch 38/100\n",
            "15/15 [==============================] - 2s 167ms/step - loss: 0.2807 - mse: 0.2807 - val_loss: 0.3041 - val_mse: 0.3041\n",
            "Epoch 39/100\n",
            "15/15 [==============================] - 2s 166ms/step - loss: 0.2786 - mse: 0.2786 - val_loss: 0.3041 - val_mse: 0.3041\n",
            "Epoch 40/100\n",
            "15/15 [==============================] - 2s 165ms/step - loss: 0.2779 - mse: 0.2779 - val_loss: 0.3041 - val_mse: 0.3041\n",
            "Epoch 41/100\n",
            "15/15 [==============================] - 2s 164ms/step - loss: 0.2756 - mse: 0.2756 - val_loss: 0.2990 - val_mse: 0.2990\n",
            "Epoch 42/100\n",
            "15/15 [==============================] - 2s 165ms/step - loss: 0.2729 - mse: 0.2729 - val_loss: 0.2977 - val_mse: 0.2977\n",
            "Epoch 43/100\n",
            "15/15 [==============================] - 3s 167ms/step - loss: 0.2709 - mse: 0.2709 - val_loss: 0.2963 - val_mse: 0.2963\n",
            "Epoch 44/100\n",
            "15/15 [==============================] - 2s 165ms/step - loss: 0.2693 - mse: 0.2693 - val_loss: 0.2961 - val_mse: 0.2961\n",
            "Epoch 45/100\n",
            "15/15 [==============================] - 2s 166ms/step - loss: 0.2677 - mse: 0.2677 - val_loss: 0.2964 - val_mse: 0.2964\n",
            "Epoch 46/100\n",
            "15/15 [==============================] - 2s 162ms/step - loss: 0.2679 - mse: 0.2679 - val_loss: 0.2943 - val_mse: 0.2943\n",
            "Epoch 47/100\n",
            "15/15 [==============================] - 2s 162ms/step - loss: 0.2669 - mse: 0.2669 - val_loss: 0.2949 - val_mse: 0.2949\n",
            "Epoch 48/100\n",
            "15/15 [==============================] - 2s 165ms/step - loss: 0.2645 - mse: 0.2645 - val_loss: 0.2914 - val_mse: 0.2914\n",
            "Epoch 49/100\n",
            "15/15 [==============================] - 2s 166ms/step - loss: 0.2618 - mse: 0.2618 - val_loss: 0.2890 - val_mse: 0.2890\n",
            "Epoch 50/100\n",
            "15/15 [==============================] - 3s 168ms/step - loss: 0.2602 - mse: 0.2602 - val_loss: 0.2888 - val_mse: 0.2888\n",
            "Epoch 51/100\n",
            "15/15 [==============================] - 2s 164ms/step - loss: 0.2587 - mse: 0.2587 - val_loss: 0.2878 - val_mse: 0.2878\n",
            "Epoch 52/100\n",
            "15/15 [==============================] - 2s 165ms/step - loss: 0.2574 - mse: 0.2574 - val_loss: 0.2872 - val_mse: 0.2872\n",
            "Epoch 53/100\n",
            "15/15 [==============================] - 2s 165ms/step - loss: 0.2562 - mse: 0.2562 - val_loss: 0.2865 - val_mse: 0.2865\n",
            "Epoch 54/100\n",
            "15/15 [==============================] - 2s 165ms/step - loss: 0.2555 - mse: 0.2555 - val_loss: 0.2858 - val_mse: 0.2858\n",
            "Epoch 55/100\n",
            "15/15 [==============================] - 2s 164ms/step - loss: 0.2538 - mse: 0.2538 - val_loss: 0.2850 - val_mse: 0.2850\n",
            "Epoch 56/100\n",
            "15/15 [==============================] - 2s 166ms/step - loss: 0.2526 - mse: 0.2526 - val_loss: 0.2840 - val_mse: 0.2840\n",
            "Epoch 57/100\n",
            "15/15 [==============================] - 2s 166ms/step - loss: 0.2519 - mse: 0.2519 - val_loss: 0.2838 - val_mse: 0.2838\n",
            "Epoch 58/100\n",
            "15/15 [==============================] - 2s 165ms/step - loss: 0.2509 - mse: 0.2509 - val_loss: 0.2841 - val_mse: 0.2841\n",
            "Epoch 59/100\n",
            "15/15 [==============================] - 3s 169ms/step - loss: 0.2510 - mse: 0.2510 - val_loss: 0.2854 - val_mse: 0.2854\n",
            "Epoch 60/100\n",
            "15/15 [==============================] - 2s 166ms/step - loss: 0.2494 - mse: 0.2494 - val_loss: 0.2819 - val_mse: 0.2819\n",
            "Epoch 61/100\n",
            "15/15 [==============================] - 2s 166ms/step - loss: 0.2475 - mse: 0.2475 - val_loss: 0.2807 - val_mse: 0.2807\n",
            "Epoch 62/100\n",
            "15/15 [==============================] - 3s 168ms/step - loss: 0.2467 - mse: 0.2467 - val_loss: 0.2809 - val_mse: 0.2809\n",
            "Epoch 63/100\n",
            "15/15 [==============================] - 2s 166ms/step - loss: 0.2461 - mse: 0.2461 - val_loss: 0.2817 - val_mse: 0.2817\n",
            "Epoch 64/100\n",
            "15/15 [==============================] - 2s 164ms/step - loss: 0.2451 - mse: 0.2451 - val_loss: 0.2796 - val_mse: 0.2796\n",
            "Epoch 65/100\n",
            "15/15 [==============================] - 2s 166ms/step - loss: 0.2433 - mse: 0.2433 - val_loss: 0.2791 - val_mse: 0.2791\n",
            "Epoch 66/100\n",
            "15/15 [==============================] - 2s 166ms/step - loss: 0.2423 - mse: 0.2423 - val_loss: 0.2785 - val_mse: 0.2785\n",
            "Epoch 67/100\n",
            "15/15 [==============================] - 2s 167ms/step - loss: 0.2411 - mse: 0.2411 - val_loss: 0.2788 - val_mse: 0.2788\n",
            "Epoch 68/100\n",
            "15/15 [==============================] - 2s 166ms/step - loss: 0.2399 - mse: 0.2399 - val_loss: 0.2772 - val_mse: 0.2772\n",
            "Epoch 69/100\n",
            "15/15 [==============================] - 2s 165ms/step - loss: 0.2389 - mse: 0.2389 - val_loss: 0.2771 - val_mse: 0.2771\n",
            "Epoch 70/100\n",
            "15/15 [==============================] - 2s 166ms/step - loss: 0.2378 - mse: 0.2378 - val_loss: 0.2765 - val_mse: 0.2765\n",
            "Epoch 71/100\n",
            "15/15 [==============================] - 3s 168ms/step - loss: 0.2368 - mse: 0.2368 - val_loss: 0.2762 - val_mse: 0.2762\n",
            "Epoch 72/100\n",
            "15/15 [==============================] - 2s 168ms/step - loss: 0.2360 - mse: 0.2360 - val_loss: 0.2761 - val_mse: 0.2761\n",
            "Epoch 73/100\n",
            "15/15 [==============================] - 2s 165ms/step - loss: 0.2350 - mse: 0.2350 - val_loss: 0.2754 - val_mse: 0.2754\n",
            "Epoch 74/100\n",
            "15/15 [==============================] - 2s 165ms/step - loss: 0.2337 - mse: 0.2337 - val_loss: 0.2745 - val_mse: 0.2745\n",
            "Epoch 75/100\n",
            "15/15 [==============================] - 2s 164ms/step - loss: 0.2327 - mse: 0.2327 - val_loss: 0.2745 - val_mse: 0.2745\n",
            "Epoch 76/100\n",
            "15/15 [==============================] - 2s 164ms/step - loss: 0.2322 - mse: 0.2322 - val_loss: 0.2747 - val_mse: 0.2747\n",
            "Epoch 77/100\n",
            "15/15 [==============================] - 2s 168ms/step - loss: 0.2321 - mse: 0.2321 - val_loss: 0.2758 - val_mse: 0.2758\n",
            "Epoch 78/100\n",
            "15/15 [==============================] - 2s 166ms/step - loss: 0.2305 - mse: 0.2305 - val_loss: 0.2744 - val_mse: 0.2744\n",
            "Epoch 79/100\n",
            "15/15 [==============================] - 2s 168ms/step - loss: 0.2288 - mse: 0.2288 - val_loss: 0.2729 - val_mse: 0.2729\n",
            "Epoch 80/100\n",
            "15/15 [==============================] - 2s 168ms/step - loss: 0.2280 - mse: 0.2280 - val_loss: 0.2750 - val_mse: 0.2750\n",
            "Epoch 81/100\n",
            "15/15 [==============================] - 3s 168ms/step - loss: 0.2267 - mse: 0.2267 - val_loss: 0.2724 - val_mse: 0.2724\n",
            "Epoch 82/100\n",
            "15/15 [==============================] - 2s 166ms/step - loss: 0.2250 - mse: 0.2250 - val_loss: 0.2726 - val_mse: 0.2726\n",
            "Epoch 83/100\n",
            "15/15 [==============================] - 3s 169ms/step - loss: 0.2245 - mse: 0.2245 - val_loss: 0.2721 - val_mse: 0.2721\n",
            "Epoch 84/100\n",
            "15/15 [==============================] - 3s 168ms/step - loss: 0.2238 - mse: 0.2238 - val_loss: 0.2713 - val_mse: 0.2713\n",
            "Epoch 85/100\n",
            "15/15 [==============================] - 3s 168ms/step - loss: 0.2221 - mse: 0.2221 - val_loss: 0.2714 - val_mse: 0.2714\n",
            "Epoch 86/100\n",
            "15/15 [==============================] - 3s 169ms/step - loss: 0.2210 - mse: 0.2210 - val_loss: 0.2719 - val_mse: 0.2719\n",
            "Epoch 87/100\n",
            "15/15 [==============================] - 3s 169ms/step - loss: 0.2206 - mse: 0.2206 - val_loss: 0.2719 - val_mse: 0.2719\n",
            "Epoch 88/100\n",
            "15/15 [==============================] - 2s 165ms/step - loss: 0.2196 - mse: 0.2196 - val_loss: 0.2703 - val_mse: 0.2703\n",
            "Epoch 89/100\n",
            "15/15 [==============================] - 3s 168ms/step - loss: 0.2182 - mse: 0.2182 - val_loss: 0.2702 - val_mse: 0.2702\n",
            "Epoch 90/100\n",
            "15/15 [==============================] - 2s 165ms/step - loss: 0.2177 - mse: 0.2177 - val_loss: 0.2711 - val_mse: 0.2711\n",
            "Epoch 91/100\n",
            "15/15 [==============================] - 2s 164ms/step - loss: 0.2164 - mse: 0.2164 - val_loss: 0.2702 - val_mse: 0.2702\n",
            "Epoch 92/100\n",
            "15/15 [==============================] - 2s 166ms/step - loss: 0.2153 - mse: 0.2153 - val_loss: 0.2698 - val_mse: 0.2698\n",
            "Epoch 93/100\n",
            "15/15 [==============================] - 2s 166ms/step - loss: 0.2144 - mse: 0.2144 - val_loss: 0.2685 - val_mse: 0.2685\n",
            "Epoch 94/100\n",
            "15/15 [==============================] - 2s 167ms/step - loss: 0.2131 - mse: 0.2131 - val_loss: 0.2683 - val_mse: 0.2683\n",
            "Epoch 95/100\n",
            "15/15 [==============================] - 2s 165ms/step - loss: 0.2124 - mse: 0.2124 - val_loss: 0.2675 - val_mse: 0.2675\n",
            "Epoch 96/100\n",
            "15/15 [==============================] - 2s 165ms/step - loss: 0.2108 - mse: 0.2108 - val_loss: 0.2680 - val_mse: 0.2680\n",
            "Epoch 97/100\n",
            "15/15 [==============================] - 2s 167ms/step - loss: 0.2100 - mse: 0.2100 - val_loss: 0.2681 - val_mse: 0.2681\n",
            "Epoch 98/100\n",
            "15/15 [==============================] - 2s 163ms/step - loss: 0.2094 - mse: 0.2094 - val_loss: 0.2671 - val_mse: 0.2671\n",
            "Epoch 99/100\n",
            "15/15 [==============================] - 3s 167ms/step - loss: 0.2087 - mse: 0.2087 - val_loss: 0.2679 - val_mse: 0.2679\n",
            "Epoch 100/100\n",
            "15/15 [==============================] - 2s 162ms/step - loss: 0.2080 - mse: 0.2080 - val_loss: 0.2675 - val_mse: 0.2675\n",
            "7/7 [==============================] - 1s 45ms/step\n"
          ]
        },
        {
          "output_type": "display_data",
          "data": {
            "text/plain": [
              "<Figure size 1080x576 with 1 Axes>"
            ],
            "image/png": "[encoded data removed]"
          },
          "metadata": {
            "needs_background": "light"
          }
        },
        {
          "output_type": "stream",
          "name": "stdout",
          "text": [
            "RMSE-LSTM= 0.5274860847645482\n",
            "MAE-LSTM = 0.4045504517830661\n"
          ]
        },
        {
          "output_type": "display_data",
          "data": {
            "text/plain": [
              "<Figure size 1080x576 with 1 Axes>"
            ],
            "image/png": "[encoded data removed]"
          },
          "metadata": {
            "needs_background": "light"
          }
        }
      ],
      "source": [
        "\n",
        "trainX, trainY = train_dataset.dataset.tensors[0].detach().numpy(), train_dataset.dataset.tensors[1].detach().numpy()\n",
        "trainY = trainY[:, 0:pred_len, :]\n",
        "testX, testY = test_dataset.dataset.tensors[0].detach().numpy(), test_dataset.dataset.tensors[1].detach().numpy()\n",
        "testY = testY[:, 0:pred_len, :]\n",
        "x_val, y_val = val_dataset.dataset.tensors[0].detach().numpy(), val_dataset.dataset.tensors[1].detach().numpy()\n",
        "y_val = y_val[:, 0:pred_len, :]\n",
        "# reshape input to be [samples, time steps, features]\n",
        "model = Sequential()\n",
        "model.add(LSTM(128, input_shape=(trainX.shape[1], trainX.shape[2])))\n",
        "model.add(Dense(pred_len, activation='linear'))\n",
        "model.compile(loss='mse', optimizer='adam', metrics=['mse'])\n",
        "model_fit = model.fit(trainX, trainY, epochs=100, batch_size=64,  validation_data=(x_val,y_val))\n",
        "model_output = model.predict(testX)\n",
        "resultsLSTM = pd.DataFrame({\"Train Loss\": model_fit.history['loss'], \"Validation Loss\": model_fit.history['val_loss']})\n",
        "resultsLSTM[[\"Train Loss\", \"Validation Loss\"]].plot()\n",
        "plt.plot(resultsLSTM['Train Loss'])\n",
        "plt.show()\n",
        "\n",
        "\n",
        "testY = testY.reshape(testY.shape[0], testY.shape[1], )\n",
        "\n",
        "MSE = np.square(np.subtract(testY,model_output)).mean() \n",
        "RMSE = math.sqrt(MSE)\n",
        "print('RMSE-LSTM=', RMSE)\n",
        "\n",
        "mae = np.mean(np.abs(model_output - testY))    # MAE\n",
        "print('MAE-LSTM =', mae)\n",
        "\n",
        "\n",
        "'''history = model.fit(trainX, trainY, epochs=100, batch_size=70, validation_data=(testX, testY), verbose=2, shuffle=False)\n",
        "'''\n",
        "\"\"\"# summarize history for loss\n",
        "plt.plot(history.history['loss'])\n",
        "plt.plot(history.history['val_loss'])\n",
        "plt.title('model loss')\n",
        "plt.ylabel('loss')\n",
        "plt.xlabel('epoch')\n",
        "plt.legend(['train', 'test'], loc='upper right')\n",
        "plt.show()\n",
        "\"\"\"\n",
        "prediction_LSTM = model_output\n",
        "data_mean, data_std = stats \n",
        "prediction_LSTM = prediction_LSTM*data_std[0]+ data_mean[0]\n",
        "testY = testY*data_std[0] + data_mean[0]\n",
        "\n",
        "plt.plot(testY[1], color='blue',label='Actual power consumption data')\n",
        "plt.plot(prediction_LSTM[1], alpha=0.7, color='green',label='RNN')\n",
        "prediction = pd.DataFrame(prediction_LSTM[1], columns=['prediction_LSTM']).to_csv('LSTM7.csv')\n",
        "prediction = pd.DataFrame(prediction_LSTM[1], columns=['prediction_LSTM']).to_csv('LSTM7.csv')\n",
        "\n"
      ]
    },
    {
      "cell_type": "code",
      "execution_count": null,
      "metadata": {
        "colab": {
          "base_uri": "https://localhost:8080/"
        },
        "id": "TxJV7FcxmFwi",
        "outputId": "a7b53693-2726-41b1-e4c3-482190b5fbc9"
      },
      "outputs": [
        {
          "output_type": "display_data",
          "data": {
            "text/plain": [
              "<Figure size 1080x576 with 1 Axes>"
            ],
            "image/png": "[encoded data removed]"
          },
          "metadata": {
            "needs_background": "light"
          }
        }
      ],
      "source": [
        "plt.plot(losses, 'red', label='Transformer', linewidth=3)\n",
        "plt.plot(resultsLSTM['Train Loss'], linestyle='dashed', linewidth=3)\n",
        "plt.plot(results['Train Loss'], linestyle='-.', linewidth=3)\n",
        "plt.xlabel('epochs', fontsize = 15)\n",
        "plt.ylabel('Training loss', fontsize = 15)\n",
        "plt.legend(['Transformer', 'LSTM', 'RNN'], fontsize = 15)\n",
        "\n",
        "plt.show()\n"
      ]
    },
    {
      "cell_type": "markdown",
      "metadata": {
        "id": "1LH1szWAeOC9"
      },
      "source": [
        "ARIMA"
      ]
    },
    {
      "cell_type": "code",
      "execution_count": null,
      "metadata": {
        "colab": {
          "base_uri": "https://localhost:8080/"
        },
        "id": "kOSHU4FceO_o",
        "outputId": "3febefb9-8777-4bd3-fd36-61a0a1da5886"
      },
      "outputs": [
        {
          "output_type": "stream",
          "name": "stdout",
          "text": [
            "             Energy  weekday  max0  pcpn  snow\n",
            "TIME                                          \n",
            "2018-01-01    6.504        1    30   0.0   0.0\n",
            "2018-01-02   17.527        1    46   0.0   0.0\n",
            "2018-01-03   11.227        0    50   0.0   0.0\n",
            "2018-01-04   49.748        0    52   0.0   0.0\n",
            "2018-01-05    2.956        0    62   0.0   0.0\n",
            "...             ...      ...   ...   ...   ...\n",
            "2021-11-26  271.067        0    72   0.0   0.0\n",
            "2021-11-27  203.999        0    58   0.0   0.0\n",
            "2021-11-28  275.529        0    67   0.0   0.0\n",
            "2021-11-29  280.653        1    74   0.0   0.0\n",
            "2021-11-30  209.820        1    59   0.0   0.0\n",
            "\n",
            "[1425 rows x 5 columns]\n",
            "Energy     179.839142\n",
            "weekday      0.287018\n",
            "max0        66.785965\n",
            "pcpn         0.051425\n",
            "snow         0.248772\n",
            "dtype: float64\n",
            "             Energy  weekday  max0  pcpn  snow\n",
            "TIME                                          \n",
            "2018-01-01    6.504        1    30   0.0   0.0\n",
            "2018-01-02   17.527        1    46   0.0   0.0\n",
            "2018-01-03   11.227        0    50   0.0   0.0\n",
            "2018-01-04   49.748        0    52   0.0   0.0\n",
            "2018-01-05    2.956        0    62   0.0   0.0\n",
            "...             ...      ...   ...   ...   ...\n",
            "2021-11-26  271.067        0    72   0.0   0.0\n",
            "2021-11-27  203.999        0    58   0.0   0.0\n",
            "2021-11-28  275.529        0    67   0.0   0.0\n",
            "2021-11-29  280.653        1    74   0.0   0.0\n",
            "2021-11-30  209.820        1    59   0.0   0.0\n",
            "\n",
            "[1425 rows x 5 columns]\n",
            "Energy     179.839142\n",
            "weekday      0.287018\n",
            "max0        66.785965\n",
            "pcpn         0.051425\n",
            "snow         0.248772\n",
            "dtype: float64\n",
            "0.9208212374542942\n",
            "0.6987161074421568\n"
          ]
        }
      ],
      "source": [
        "def split_dataset_into_seq(dataset, start_index=0, end_index=None, history_size=90, step=1):\n",
        "    '''split the dataset to have sequence of observations of length history size'''\n",
        "    dataset = np.array(dataset)\n",
        "    data = []\n",
        "    start_index = start_index + history_size\n",
        "    if end_index is None:\n",
        "        end_index = len(dataset)\n",
        "    for i in range(start_index, end_index):\n",
        "        indices = range(i - history_size, i, step)\n",
        "        data.append(dataset[indices])\n",
        "    return np.array(data)\n",
        "\n",
        "\n",
        "def split_dataset(data, TRAIN_SPLIT=0.7, VAL_SPLIT=0.5, save_path=None):\n",
        "    '''split the dataset into train, val and test splits'''\n",
        "    # normalization\n",
        "\n",
        "    print(data)\n",
        "    data_mean = data.mean(axis=0)\n",
        "    print(data_mean)\n",
        "    data_std = data.std(axis=0)\n",
        "    data = (data - data_mean) / data_std\n",
        "    stats = (data_mean, data_std)\n",
        "   \n",
        "    data_in_seq = split_dataset_into_seq(data, start_index=0, end_index=None, history_size=90, step=1)\n",
        "\n",
        "    # split between validation dataset and test set:\n",
        "    train_data, val_data = train_test_split(data_in_seq, train_size=TRAIN_SPLIT, shuffle=True, random_state=123)\n",
        "    val_data, test_data = train_test_split(val_data, train_size=VAL_SPLIT, shuffle=True, random_state=123)\n",
        "    return train_data, val_data, test_data, stats\n",
        "\n",
        "\n",
        "def split_fn(chunk):\n",
        "    \"\"\"to split the dataset sequences into input and targets sequences\"\"\"\n",
        "\n",
        "    inputs = torch.tensor(chunk[:, :, :], device=device)\n",
        "    targets = torch.tensor(chunk[:, :, 0], device=device).unsqueeze(-1)\n",
        "\n",
        "    return inputs, targets\n",
        "\n",
        "\n",
        "def data_to_dataset(train_data, val_data, test_data, batch_size=64, target_features=list(range(5))):\n",
        "    '''\n",
        "    split each train split into inputs and targets\n",
        "    convert each train split into a tf.dataset\n",
        "    '''\n",
        "    x_train, y_train = split_fn(train_data)\n",
        "    x_val, y_val = split_fn(val_data)\n",
        "    x_test, y_test = split_fn(test_data)\n",
        "    train_dataset = torch.utils.data.TensorDataset(x_train, y_train)\n",
        "    val_dataset = torch.utils.data.TensorDataset(x_val, y_val)\n",
        "    test_dataset = torch.utils.data.TensorDataset(x_test, y_test)\n",
        "\n",
        "    train_loader = torch.utils.data.DataLoader(train_dataset, batch_size=batch_size)\n",
        "    val_loader = torch.utils.data.DataLoader(val_dataset, batch_size=batch_size)\n",
        "    test_loader = torch.utils.data.DataLoader(test_dataset, batch_size=batch_size)\n",
        "    return train_loader, val_loader, test_loader\n",
        "\n",
        "\n",
        "device = torch.device(\"cuda:0\" if torch.cuda.is_available() else \"cpu\")\n",
        "\n",
        "train_data, val_data, test_data, stats = split_dataset(data)\n",
        "train_dataset, val_dataset, test_dataset = data_to_dataset(train_data, val_data, test_data)\n",
        "\n",
        "train, valid, test, stats = split_dataset(data)\n",
        "_, _, test_dataset = data_to_dataset(train, valid, test)\n",
        "testX, testY = test_dataset.dataset.tensors[0].detach().numpy(), test_dataset.dataset.tensors[1].detach().numpy()\n",
        "\n",
        "testX = testX[:, :, 0]\n",
        "testY = testY[:, 0:pred_len, 0]\n",
        "\n",
        "forecast_all = []\n",
        "\n",
        "for s in range(len(testX)):\n",
        "  forecast = []\n",
        "  for i in range(testY.shape[1]):\n",
        "    model=ARIMA(testX[s],order=(1,1,0))\n",
        "    f = model.fit().forecast()[0]\n",
        "    train = np.concatenate((testX[i], f))\n",
        "    forecast.append(f)\n",
        "  forecast_all.append(forecast)\n",
        "\n",
        "forecast = np.array(forecast_all)\n",
        "forecasat_ARIMA = forecast[:, :, 0]\n",
        "\n",
        "MSE = np.square(np.subtract(testY,forecasat_ARIMA)).mean() \n",
        "RMSE = math.sqrt(MSE)\n",
        "print(RMSE)\n",
        "mae = np.mean(np.abs(forecasat_ARIMA - testY)) \n",
        "print(mae)\n",
        "\n",
        "data_mean, data_std = stats \n",
        "forecasat_ARIMA = forecasat_ARIMA*data_std[0]+ data_mean[0]\n",
        "testY = testY*data_std[0] + data_mean[0]"
      ]
    },
    {
      "cell_type": "markdown",
      "metadata": {
        "id": "O_JCBwoGLIpD"
      },
      "source": []
    },
    {
      "cell_type": "code",
      "execution_count": null,
      "metadata": {
        "colab": {
          "base_uri": "https://localhost:8080/"
        },
        "id": "mBCrSgoHxbl8",
        "outputId": "6916c674-445f-475f-eee0-7706d5b8c7e8"
      },
      "outputs": [
        {
          "output_type": "stream",
          "name": "stdout",
          "text": [
            "(201, 90)\n",
            "(201, 90)\n"
          ]
        },
        {
          "output_type": "display_data",
          "data": {
            "text/plain": [
              "<Figure size 1080x576 with 1 Axes>"
            ],
            "image/png": "[encoded data removed]"
          },
          "metadata": {
            "needs_background": "light"
          }
        }
      ],
      "source": [
        "print(testY.shape)\n",
        "print(forecasat_ARIMA.shape)\n",
        "plt.plot(testY[1], color='blue',label='Actual power consumption data')\n",
        "plt.plot(forecasat_ARIMA[1], alpha=0.7, color='orange',label='ARIMA')\n",
        "\n",
        "prediction = pd.DataFrame(forecasat_ARIMA[1], columns=['forecasat_ARIMA' ]).to_csv('ARIMA30.csv')\n",
        "prediction = pd.DataFrame(testY[1], columns=['realdata']).to_csv('realdata90.csv')"
      ]
    }
  ],
  "metadata": {
    "colab": {
      "provenance": [],
      "authorship_tag": "ABX9TyPnyxulpHdi2refdO5+os+v",
      "include_colab_link": true
    },
    "kernelspec": {
      "display_name": "Python 3",
      "name": "python3"
    },
    "language_info": {
      "name": "python"
    }
  },
  "nbformat": 4,
  "nbformat_minor": 0
}